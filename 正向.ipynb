{
 "cells": [
  {
   "cell_type": "code",
   "execution_count": 428,
   "metadata": {
    "collapsed": false
   },
   "outputs": [],
   "source": [
    "from PIL import Image, ImageFont, ImageDraw\n",
    "def Generate(contents, fn):\n",
    "    '''\n",
    "    contents = [(起始位置x,起始位置y,旋转角度,汉字), ]\n",
    "    '''    \n",
    "    background = Image.new(\"RGBA\", (400, 88), (255,255,255,255))\n",
    "    bgdr = ImageDraw.Draw(background)\n",
    "    font = ImageFont.truetype(\"./Kaiti-SC-Bold.ttf\", 72)\n",
    "    \n",
    "    for c in contents:\n",
    "        axis_x    = c[0]\n",
    "        axis_y    = c[1]\n",
    "        angle     = c[2]\n",
    "        character = c[3]\n",
    "        \n",
    "        im = Image.new(\"RGBA\", (72, 82), (0, 0, 33, 30))\n",
    "        dr = ImageDraw.Draw(im)\n",
    "        dr.text((0, 0), character, font=font, fill=\"#000000\")\n",
    "        \n",
    "        #bgdr.ellipse((c[4]-3, c[5]-3, c[4]+3, c[5]+3), fill =\"blue\", outline ='blue')\n",
    "        \n",
    "        fore = im.rotate(angle, expand=1);\n",
    "        background.paste(fore, (axis_x, axis_y), fore)\n",
    "    background.save(fn)"
   ]
  },
  {
   "cell_type": "code",
   "execution_count": 430,
   "metadata": {
    "collapsed": false
   },
   "outputs": [],
   "source": [
    "from random import randint, choice\n",
    "from math import sin, cos, radians, fabs\n",
    "\n",
    "def randomGB2312():\n",
    "    '''\n",
    "    来自 http://blog.3gcnbeta.com/2010/02/08/python-%E9%9A%8F%E6%9C%BA%E7%94%9F%E6%88%90%E4%B8%AD%E6%96%87%E7%9A%84%E4%BB%A3%E7%A0%81/\n",
    "    有bug\n",
    "    '''\n",
    "    head = random.randint(0xB0, 0xDF)\n",
    "    body = random.randint(0xA, 0xF)\n",
    "    tail = random.randint(0, 0xF)\n",
    "    val = ( head << 0x8 ) | (body << 0x4 ) | tail\n",
    "    str = '%x' % val\n",
    "    try:\n",
    "        return str.decode('hex').decode('gb2312')\n",
    "    except:\n",
    "        return randomGB2312()\n",
    "\n",
    "l = []\n",
    "for i in range(7):\n",
    "    \n",
    "    angle = choice([randint(-20, 20),randint(-180, -160),randint(160, 180)])\n",
    "    \n",
    "    rad   = radians(angle)\n",
    "    height = fabs( sin(rad) * 72 ) + fabs( cos(rad) * 82 )\n",
    "    width  = fabs( sin(rad) * 82 ) + fabs( cos(rad) * 72 )\n",
    "    \n",
    "    x = i * 54 + random.randint(-11, 11)\n",
    "    \n",
    "    rg = int((88 - height)/2)\n",
    "    y = random.randint(rg-3, rg+3)\n",
    "    character = randomGB2312()\n",
    "    \n",
    "    centerX = x + width/2\n",
    "    centerY = y + height/2\n",
    "    \n",
    "    c = (x, y, angle, character, centerX, centerY)\n",
    "    l.append(c)\n",
    "    \n",
    "draw(l, 't.png')"
   ]
  },
  {
   "cell_type": "code",
   "execution_count": 452,
   "metadata": {
    "collapsed": false,
    "scrolled": true
   },
   "outputs": [],
   "source": [
    "x = '-'.join([(str(int(i[4]))+'-'+str(int(i[5]))) for i in l])"
   ]
  },
  {
   "cell_type": "code",
   "execution_count": 453,
   "metadata": {
    "collapsed": false
   },
   "outputs": [
    {
     "data": {
      "text/plain": [
       "'37-45-106-44-146-41-207-41-259-41-326-44-366-47'"
      ]
     },
     "execution_count": 453,
     "metadata": {},
     "output_type": "execute_result"
    }
   ],
   "source": [
    "x"
   ]
  },
  {
   "cell_type": "code",
   "execution_count": 435,
   "metadata": {
    "collapsed": false
   },
   "outputs": [
    {
     "data": {
      "text/plain": [
       "[(37.436394583956826, 45.98158936067726),\n",
       " (106.38696305431883, 44.48671516002963),\n",
       " (146.08845522723163, 41.53842238773474),\n",
       " (207.90773135599838, 41.117928965599404),\n",
       " (259.08845522723163, 41.538422387734734),\n",
       " (326.41421110830146, 44.733876364502976),\n",
       " (366.3849105956098, 47.920444501542555)]"
      ]
     },
     "execution_count": 435,
     "metadata": {},
     "output_type": "execute_result"
    }
   ],
   "source": [
    "x"
   ]
  },
  {
   "cell_type": "code",
   "execution_count": 285,
   "metadata": {
    "collapsed": false
   },
   "outputs": [],
   "source": [
    "draw(l[0:1])"
   ]
  },
  {
   "cell_type": "code",
   "execution_count": 267,
   "metadata": {
    "collapsed": false
   },
   "outputs": [
    {
     "data": {
      "text/plain": [
       "[(0, 8, 0, u'\\u7a32')]"
      ]
     },
     "execution_count": 267,
     "metadata": {},
     "output_type": "execute_result"
    }
   ],
   "source": [
    "l[0:1]"
   ]
  },
  {
   "cell_type": "code",
   "execution_count": null,
   "metadata": {
    "collapsed": true
   },
   "outputs": [],
   "source": [
    "if __name__ == '__main__':\n",
    "\tmain()"
   ]
  },
  {
   "cell_type": "code",
   "execution_count": 378,
   "metadata": {
    "collapsed": true
   },
   "outputs": [],
   "source": [
    "rad   = radians(0)\n",
    "height = fabs( sin(rad) * 82 ) + fabs( cos(rad) * 72 )\n",
    "width  = fabs( sin(rad) * 72 ) + fabs( cos(rad) * 82 )"
   ]
  },
  {
   "cell_type": "code",
   "execution_count": 379,
   "metadata": {
    "collapsed": false
   },
   "outputs": [
    {
     "data": {
      "text/plain": [
       "(72.0, 82.0)"
      ]
     },
     "execution_count": 379,
     "metadata": {},
     "output_type": "execute_result"
    }
   ],
   "source": [
    "height, width"
   ]
  },
  {
   "cell_type": "code",
   "execution_count": 456,
   "metadata": {
    "collapsed": false
   },
   "outputs": [
    {
     "ename": "ValueError",
     "evalue": "sample larger than population",
     "output_type": "error",
     "traceback": [
      "\u001b[1;31m---------------------------------------------------------------------------\u001b[0m",
      "\u001b[1;31mValueError\u001b[0m                                Traceback (most recent call last)",
      "\u001b[1;32m<ipython-input-456-270c8a9a9ac3>\u001b[0m in \u001b[0;36m<module>\u001b[1;34m()\u001b[0m\n\u001b[1;32m----> 1\u001b[1;33m \u001b[0mrandom\u001b[0m\u001b[1;33m.\u001b[0m\u001b[0msample\u001b[0m\u001b[1;33m(\u001b[0m\u001b[0mrange\u001b[0m\u001b[1;33m(\u001b[0m\u001b[1;36m1\u001b[0m\u001b[1;33m,\u001b[0m \u001b[1;36m100\u001b[0m\u001b[1;33m)\u001b[0m\u001b[1;33m,\u001b[0m \u001b[0mrange\u001b[0m\u001b[1;33m(\u001b[0m\u001b[1;36m200\u001b[0m\u001b[1;33m,\u001b[0m \u001b[1;36m500\u001b[0m\u001b[1;33m)\u001b[0m\u001b[1;33m)\u001b[0m\u001b[1;33m\u001b[0m\u001b[0m\n\u001b[0m",
      "\u001b[1;32m/usr/lib/python2.7/random.pyc\u001b[0m in \u001b[0;36msample\u001b[1;34m(self, population, k)\u001b[0m\n\u001b[0;32m    319\u001b[0m         \u001b[0mn\u001b[0m \u001b[1;33m=\u001b[0m \u001b[0mlen\u001b[0m\u001b[1;33m(\u001b[0m\u001b[0mpopulation\u001b[0m\u001b[1;33m)\u001b[0m\u001b[1;33m\u001b[0m\u001b[0m\n\u001b[0;32m    320\u001b[0m         \u001b[1;32mif\u001b[0m \u001b[1;32mnot\u001b[0m \u001b[1;36m0\u001b[0m \u001b[1;33m<=\u001b[0m \u001b[0mk\u001b[0m \u001b[1;33m<=\u001b[0m \u001b[0mn\u001b[0m\u001b[1;33m:\u001b[0m\u001b[1;33m\u001b[0m\u001b[0m\n\u001b[1;32m--> 321\u001b[1;33m             \u001b[1;32mraise\u001b[0m \u001b[0mValueError\u001b[0m\u001b[1;33m(\u001b[0m\u001b[1;34m\"sample larger than population\"\u001b[0m\u001b[1;33m)\u001b[0m\u001b[1;33m\u001b[0m\u001b[0m\n\u001b[0m\u001b[0;32m    322\u001b[0m         \u001b[0mrandom\u001b[0m \u001b[1;33m=\u001b[0m \u001b[0mself\u001b[0m\u001b[1;33m.\u001b[0m\u001b[0mrandom\u001b[0m\u001b[1;33m\u001b[0m\u001b[0m\n\u001b[0;32m    323\u001b[0m         \u001b[0m_int\u001b[0m \u001b[1;33m=\u001b[0m \u001b[0mint\u001b[0m\u001b[1;33m\u001b[0m\u001b[0m\n",
      "\u001b[1;31mValueError\u001b[0m: sample larger than population"
     ]
    }
   ],
   "source": [
    "random.sample(range(1, 100), range(200, 500))"
   ]
  },
  {
   "cell_type": "code",
   "execution_count": null,
   "metadata": {
    "collapsed": true
   },
   "outputs": [],
   "source": []
  }
 ],
 "metadata": {
  "kernelspec": {
   "display_name": "Python 2",
   "language": "python",
   "name": "python2"
  },
  "language_info": {
   "codemirror_mode": {
    "name": "ipython",
    "version": 2
   },
   "file_extension": ".py",
   "mimetype": "text/x-python",
   "name": "python",
   "nbconvert_exporter": "python",
   "pygments_lexer": "ipython2",
   "version": "2.7.6"
  }
 },
 "nbformat": 4,
 "nbformat_minor": 0
}
