{
 "cells": [
  {
   "cell_type": "code",
   "execution_count": 2,
   "metadata": {
    "collapsed": false
   },
   "outputs": [],
   "source": [
    "from pybrain.supervised.trainers import BackpropTrainer\n",
    "from pybrain.tools.shortcuts import buildNetwork\n",
    "net = buildNetwork(400, 600, 30, 1, bias=True)"
   ]
  },
  {
   "cell_type": "code",
   "execution_count": 56,
   "metadata": {
    "collapsed": true
   },
   "outputs": [],
   "source": [
    "from pybrain.datasets import SupervisedDataSet\n",
    "DS = SupervisedDataSet(400, 1)"
   ]
  },
  {
   "cell_type": "code",
   "execution_count": 57,
   "metadata": {
    "collapsed": false
   },
   "outputs": [],
   "source": [
    "trainer = BackpropTrainer(net, DS)"
   ]
  },
  {
   "cell_type": "code",
   "execution_count": null,
   "metadata": {
    "collapsed": false
   },
   "outputs": [],
   "source": [
    "trainer.trainUntilConvergence(maxEpochs=10)"
   ]
  },
  {
   "cell_type": "code",
   "execution_count": null,
   "metadata": {
    "collapsed": true
   },
   "outputs": [],
   "source": [
    "import os\n",
    "os.system(\"mplayer /usr/share/sounds/KDE-Sys-App-Positive.ogg\")"
   ]
  },
  {
   "cell_type": "code",
   "execution_count": null,
   "metadata": {
    "collapsed": true
   },
   "outputs": [],
   "source": []
  },
  {
   "cell_type": "code",
   "execution_count": null,
   "metadata": {
    "collapsed": true
   },
   "outputs": [],
   "source": []
  },
  {
   "cell_type": "code",
   "execution_count": 4,
   "metadata": {
    "collapsed": false
   },
   "outputs": [],
   "source": [
    "from chunhu.util import RandomGenerateOneFile\n",
    "#RandomGenerateOneFile()\n",
    "def showAscii(x):\n",
    "    import sys\n",
    "    for i in x:\n",
    "        for j in i:\n",
    "            if j > 200:\n",
    "                sys.stdout.write('+')\n",
    "            else:\n",
    "                sys.stdout.write('-')\n",
    "        print\n",
    "        \n",
    "def img2vec(im, x, y, width, height, radius=20):\n",
    "    import numpy as np\n",
    "    from PIL import Image\n",
    "    \n",
    "    x1 = np.full((height+radius+radius, width+radius+radius), 255, dtype='uint8')\n",
    "    x2 = np.asarray(im.convert('L'))\n",
    "    x1[radius:radius+height,radius:radius+width] = x2\n",
    "    return x1[y:y+radius+radius, x:x+radius+radius]\n",
    "\n",
    "import scipy.ndimage\n",
    "#scipy.ndimage.zoom(x, 0.5, order=0)"
   ]
  },
  {
   "cell_type": "code",
   "execution_count": 59,
   "metadata": {
    "collapsed": false
   },
   "outputs": [],
   "source": [
    "def seven(ret):\n",
    "    import math\n",
    "    def far(x, y, p, dist=50):\n",
    "        for i in p:\n",
    "            if math.fabs(i[0] - x) < dist and math.fabs(i[1] - y) < dist:\n",
    "                return False\n",
    "        return True\n",
    "    #迭代返回 r/2*r/2 点阵 正倒 \n",
    "    count = 0\n",
    "    pairs = []\n",
    "    \n",
    "    import random\n",
    "    for i in ret[1]:\n",
    "        if 0 == i[6]:\n",
    "            img = img2vec(ret[0], int(i[4])+random.randint(0,6), int(i[5])+random.randint(0,6), 400, 88)\n",
    "            r = scipy.ndimage.zoom(img, 0.5, order=0)\n",
    "            yield r,  0\n",
    "            count += 1\n",
    "            pairs.append([i[4], i[5]])\n",
    "            \n",
    "    for j in range(555):\n",
    "        x = random.randint(0,400)\n",
    "        y = random.randint(0,88)\n",
    "        if far(x,y,pairs):\n",
    "            img = img2vec(ret[0], x, y, 400, 88)\n",
    "            r = scipy.ndimage.zoom(img, 0.5, order=0)\n",
    "            yield r,  1\n",
    "            count -= 1\n",
    "            if 0 == count:\n",
    "                break        "
   ]
  },
  {
   "cell_type": "code",
   "execution_count": 50,
   "metadata": {
    "collapsed": false
   },
   "outputs": [
    {
     "name": "stdout",
     "output_type": "stream",
     "text": [
      "-------------+++++--\n",
      "----++---+++++++++--\n",
      "++++++--+++++++++--+\n",
      "++++++--+++++++++--+\n",
      "+++++---+++++++++--+\n",
      "+++++---++---++++--+\n",
      "---------------+---+\n",
      "-------+-+++++++----\n",
      "++++---++++++++-----\n",
      "++++---++++++++-----\n",
      "+++----+++++++++++++\n",
      "++++---++---++++++++\n",
      "++++------++++++++++\n",
      "-+------++++++++++++\n",
      "------++++++++--++++\n",
      "----+++++++++-----++\n",
      "+---++++++++++----++\n",
      "+--+++++++++++-----+\n",
      "++++++++++++++++----\n",
      "++++++++++++++++++++\n",
      "0\n",
      "++-----+++++++++---+\n",
      "+++----------+++--++\n",
      "--------------++--++\n",
      "------++++++++++--++\n",
      "++++--++-++++++---++\n",
      "-+++-----++++++-----\n",
      "----------++++------\n",
      "------++--++++-----+\n",
      "+++--++---++++++-+++\n",
      "++-----+--++++++++++\n",
      "-----+++--++++++++++\n",
      "+++--+++--++++--++++\n",
      "+++--------+++---+++\n",
      "-----------+++----++\n",
      "---+++++++++++-----+\n",
      "+++++++++++++++++---\n",
      "++++++++++++++++++++\n",
      "++++++++++++++++++++\n",
      "++++++++++++++++++++\n",
      "++++++++++++++++++++\n",
      "0\n",
      "++---+++--++---++---\n",
      "++--++++--++---++---\n",
      "++--+++---+---+++--+\n",
      "++--+++---+---++---+\n",
      "+---+++---+---++---+\n",
      "+---+++---+---++--++\n",
      "+---++----++--++--+-\n",
      "+--++------++-------\n",
      "+--+++-------------+\n",
      "---+++++--+++-----++\n",
      "---++++--+-++----+++\n",
      "---++++----------+++\n",
      "+--+++---++++----+++\n",
      "+++++----++++-------\n",
      "++++----+++++-------\n",
      "+++++------------+++\n",
      "++++++-----++----+++\n",
      "+++++++++++++++--+++\n",
      "++++++++++++++++++++\n",
      "++++++++++++++++++++\n",
      "0\n",
      "-+----++--------++++\n",
      "--++++-----+++--++++\n",
      "+-++------+--+---+++\n",
      "++----+++-+------+++\n",
      "+-----++--+++----+-+\n",
      "----+++++------+---+\n",
      "----++++-----+++---+\n",
      "++--+++++--+++++--++\n",
      "+---+++++++++-----++\n",
      "----+---+++------+++\n",
      "+-----+++----+---+++\n",
      "----++++---+++---+++\n",
      "---++++++++++----+++\n",
      "-+++++++++++++----++\n",
      "--++++++++++++++++++\n",
      "----++++++++++++++++\n",
      "-----+++++++++++++++\n",
      "++--++++++++++++++++\n",
      "++++++++++++++++++++\n",
      "++++++++++++++++++++\n",
      "0\n",
      "++++++++++++++++++++\n",
      "++++++++++++++++++++\n",
      "++++++++++++++++++++\n",
      "++++++++++++++++++++\n",
      "++++++++++++++++++++\n",
      "++++++++++++++++++++\n",
      "++++++++++++++++++++\n",
      "++++++++++++++++++--\n",
      "+++++++++++++++-----\n",
      "++++++++++----------\n",
      "+++++++++------+++++\n",
      "+++++++++++++---++++\n",
      "+++++++++++++---++++\n",
      "++++++++++++---+++++\n",
      "++++++++++++---++---\n",
      "+++++++++++---+-----\n",
      "+++++++++++---------\n",
      "++++++++++---++++---\n",
      "++++++++++--+++++---\n",
      "++++++++++--+++++---\n",
      "1\n",
      "++++++++--------++--\n",
      "+++++++----+---+++--\n",
      "+++++++---+++--+++--\n",
      "+++++++---+++---++--\n",
      "+++++++---+++---++--\n",
      "+++++++---++----++--\n",
      "++++++--------++++--\n",
      "++++++--+---++++++--\n",
      "++++++--++-+++++++--\n",
      "+++++---++-+++++++--\n",
      "+++++--++++++++++---\n",
      "++++--+++++++++++--+\n",
      "++++-+++++++++++--++\n",
      "++++++++++++++++--++\n",
      "+++++++++++++++--+++\n",
      "++++++++++++++++++++\n",
      "++++++++++++++++++++\n",
      "++++++++++++++++++++\n",
      "++++++++++++++++++++\n",
      "++++++++++++++++++++\n",
      "1\n",
      "++++++++++++++++++++\n",
      "++++++++++++++++++++\n",
      "+++++++++++++++--+++\n",
      "++++++++++++-------+\n",
      "+++++++++++++------+\n",
      "++++++++++++++++---+\n",
      "++++++++++++++++++++\n",
      "++++++++++++++++++++\n",
      "++++++++--++++++++--\n",
      "++++++----++++++----\n",
      "++++-----++-------++\n",
      "+++----++++----+++++\n",
      "+-----+++++----+++++\n",
      "--------++++---+++++\n",
      "++++---++++++---++++\n",
      "++++---++++++---++++\n",
      "++++---++++++---++++\n",
      "++++---+----+---++++\n",
      "++++--------++---+++\n",
      "++++-------+++---+++\n",
      "1\n",
      "++++++++++++++++++++\n",
      "++++++++++++++++++++\n",
      "++++++++++++++++++++\n",
      "++++++++++++++++++++\n",
      "++++++++++++++++++++\n",
      "++++++++++++++++++++\n",
      "++++++++++++++++++++\n",
      "++++++++++++++++++++\n",
      "++++++++++++++++++++\n",
      "++++++++++++++++++++\n",
      "++++++++++++++++++++\n",
      "++++++++++++++++++++\n",
      "++++++++++++++++++++\n",
      "+++++++++++++++++++-\n",
      "+++++++++++++++++---\n",
      "+++++++++++++-------\n",
      "++++++++++---------+\n",
      "+++++++++-------++++\n",
      "+++++++++++++----+++\n",
      "+++++++++++++----+++\n",
      "1\n"
     ]
    }
   ],
   "source": [
    "for i in seven(ret):\n",
    "    showAscii(i[0]),\n",
    "    print i[1]\n"
   ]
  },
  {
   "cell_type": "code",
   "execution_count": 60,
   "metadata": {
    "collapsed": false
   },
   "outputs": [],
   "source": [
    "import sys, time\n",
    "for uuid in range(10000):\n",
    "    ret = RandomGenerateOneFile()\n",
    "    for i in seven(ret):\n",
    "        #showAscii(i[0]),\n",
    "        #print i[1]\n",
    "        DS.appendLinked( [0 if x < 200 else 1 for x in i[0].ravel().tolist()], [i[1]] )"
   ]
  },
  {
   "cell_type": "code",
   "execution_count": 62,
   "metadata": {
    "collapsed": false
   },
   "outputs": [
    {
     "name": "stdout",
     "output_type": "stream",
     "text": [
      "[ 0.]\n",
      "[ 0.]\n",
      "[ 0.]\n",
      "[ 1.]\n",
      "[ 1.]\n",
      "[ 1.]\n",
      "[ 0.]\n",
      "[ 0.]\n",
      "[ 0.]\n",
      "[ 0.]\n",
      "[ 1.]\n",
      "[ 1.]\n",
      "[ 1.]\n",
      "[ 1.]\n",
      "[ 0.]\n",
      "[ 0.]\n",
      "[ 1.]\n",
      "[ 1.]\n",
      "[ 0.]\n",
      "[ 0.]\n",
      "[ 1.]\n",
      "[ 1.]\n",
      "[ 0.]\n",
      "[ 0.]\n",
      "[ 0.]\n",
      "[ 0.]\n",
      "[ 1.]\n",
      "[ 1.]\n",
      "[ 1.]\n",
      "[ 1.]\n",
      "[ 0.]\n",
      "[ 0.]\n",
      "[ 0.]\n",
      "[ 1.]\n",
      "[ 1.]\n",
      "[ 1.]\n",
      "[ 0.]\n",
      "[ 0.]\n",
      "[ 0.]\n",
      "[ 1.]\n",
      "[ 1.]\n",
      "[ 1.]\n",
      "[ 0.]\n",
      "[ 0.]\n",
      "[ 0.]\n",
      "[ 1.]\n",
      "[ 1.]\n",
      "[ 1.]\n",
      "[ 0.]\n",
      "[ 0.]\n",
      "[ 1.]\n",
      "[ 1.]\n",
      "[ 0.]\n",
      "[ 0.]\n",
      "[ 1.]\n",
      "[ 1.]\n",
      "[ 0.]\n",
      "[ 0.]\n",
      "[ 0.]\n",
      "[ 1.]\n",
      "[ 1.]\n",
      "[ 1.]\n",
      "[ 0.]\n",
      "[ 0.]\n",
      "[ 0.]\n",
      "[ 1.]\n",
      "[ 1.]\n",
      "[ 1.]\n",
      "[ 0.]\n",
      "[ 0.]\n",
      "[ 0.]\n",
      "[ 0.]\n",
      "[ 0.]\n",
      "[ 0.]\n",
      "[ 1.]\n",
      "[ 1.]\n",
      "[ 1.]\n",
      "[ 1.]\n",
      "[ 1.]\n",
      "[ 1.]\n",
      "[ 0.]\n",
      "[ 0.]\n",
      "[ 0.]\n",
      "[ 0.]\n",
      "[ 1.]\n",
      "[ 1.]\n",
      "[ 1.]\n",
      "[ 1.]\n",
      "[ 0.]\n",
      "[ 1.]\n",
      "[ 0.]\n",
      "[ 1.]\n",
      "[ 0.]\n",
      "[ 0.]\n",
      "[ 0.]\n",
      "[ 1.]\n",
      "[ 1.]\n",
      "[ 1.]\n",
      "[ 0.]\n",
      "[ 1.]\n",
      "[ 0.]\n",
      "[ 0.]\n",
      "[ 0.]\n",
      "[ 0.]\n",
      "[ 0.]\n",
      "[ 1.]\n",
      "[ 1.]\n",
      "[ 1.]\n",
      "[ 1.]\n",
      "[ 1.]\n",
      "[ 0.]\n",
      "[ 0.]\n",
      "[ 0.]\n",
      "[ 0.]\n",
      "[ 0.]\n",
      "[ 1.]\n",
      "[ 1.]\n",
      "[ 1.]\n",
      "[ 1.]\n",
      "[ 1.]\n",
      "[ 0.]\n",
      "[ 0.]\n",
      "[ 0.]\n",
      "[ 0.]\n",
      "[ 0.]\n",
      "[ 1.]\n",
      "[ 1.]\n",
      "[ 1.]\n",
      "[ 1.]\n",
      "[ 1.]\n",
      "[ 0.]\n",
      "[ 0.]\n",
      "[ 0.]\n",
      "[ 1.]\n",
      "[ 1.]\n",
      "[ 1.]\n",
      "[ 0.]\n",
      "[ 0.]\n",
      "[ 0.]\n",
      "[ 0.]\n",
      "[ 0.]\n",
      "[ 1.]\n",
      "[ 1.]\n",
      "[ 1.]\n",
      "[ 1.]\n",
      "[ 1.]\n",
      "[ 0.]\n",
      "[ 1.]\n",
      "[ 0.]\n",
      "[ 0.]\n",
      "[ 0.]\n",
      "[ 0.]\n",
      "[ 1.]\n",
      "[ 1.]\n",
      "[ 1.]\n",
      "[ 1.]\n",
      "[ 0.]\n",
      "[ 0.]\n",
      "[ 0.]\n",
      "[ 0.]\n",
      "[ 0.]\n",
      "[ 0.]\n",
      "[ 1.]\n",
      "[ 1.]\n",
      "[ 1.]\n",
      "[ 1.]\n",
      "[ 1.]\n",
      "[ 1.]\n",
      "[ 0.]\n",
      "[ 0.]\n",
      "[ 0.]\n",
      "[ 1.]\n",
      "[ 1.]\n",
      "[ 1.]\n",
      "[ 0.]\n",
      "[ 1.]\n",
      "[ 0.]\n",
      "[ 0.]\n",
      "[ 1.]\n",
      "[ 1.]\n",
      "[ 0.]\n",
      "[ 0.]\n",
      "[ 0.]\n",
      "[ 0.]\n",
      "[ 1.]\n",
      "[ 1.]\n",
      "[ 1.]\n",
      "[ 1.]\n",
      "[ 0.]\n",
      "[ 0.]\n",
      "[ 1.]\n",
      "[ 1.]\n",
      "[ 0.]\n",
      "[ 0.]\n",
      "[ 0.]\n",
      "[ 0.]\n",
      "[ 1.]\n",
      "[ 1.]\n",
      "[ 1.]\n",
      "[ 1.]\n"
     ]
    }
   ],
   "source": [
    "for i in range(300, 500):\n",
    "    print DS['target'][i]"
   ]
  },
  {
   "cell_type": "code",
   "execution_count": null,
   "metadata": {
    "collapsed": false
   },
   "outputs": [],
   "source": [
    "len(DS)"
   ]
  },
  {
   "cell_type": "code",
   "execution_count": 5,
   "metadata": {
    "collapsed": true
   },
   "outputs": [],
   "source": [
    "import sys"
   ]
  },
  {
   "cell_type": "code",
   "execution_count": 11,
   "metadata": {
    "collapsed": false
   },
   "outputs": [
    {
     "name": "stdout",
     "output_type": "stream",
     "text": [
      "s"
     ]
    }
   ],
   "source": [
    "sys.stdout.write('s')\n",
    "sys.stdout.flush()"
   ]
  },
  {
   "cell_type": "code",
   "execution_count": 12,
   "metadata": {
    "collapsed": false
   },
   "outputs": [
    {
     "data": {
      "text/plain": [
       "<module 'sys' (built-in)>"
      ]
     },
     "execution_count": 12,
     "metadata": {},
     "output_type": "execute_result"
    }
   ],
   "source": [
    "sys"
   ]
  },
  {
   "cell_type": "code",
   "execution_count": null,
   "metadata": {
    "collapsed": false
   },
   "outputs": [
    {
     "data": {
      "image/png": "[encoded data removed]",
      "text/plain": [
       "<matplotlib.figure.Figure at 0x7fc7582aa950>"
      ]
     },
     "metadata": {},
     "output_type": "display_data"
    }
   ],
   "source": [
    "%matplotlib inline\n",
    "import time\n",
    "from matplotlib import pylab as pl\n",
    "from IPython import display\n",
    "for i in range(10):\n",
    "    pl.plot(pl.randn(100))\n",
    "    display.clear_output(wait=True)\n",
    "    display.display(pl.gcf())\n",
    "    time.sleep(1.0)"
   ]
  },
  {
   "cell_type": "code",
   "execution_count": 24,
   "metadata": {
    "collapsed": true
   },
   "outputs": [],
   "source": [
    "import sys, time\n",
    "try:\n",
    "    from IPython.core.display import clear_output\n",
    "    have_ipython = True\n",
    "except ImportError:\n",
    "    have_ipython = False\n",
    "\n",
    "class ProgressBar:\n",
    "    def __init__(self, iterations):\n",
    "        self.iterations = iterations\n",
    "        self.prog_bar = '[]'\n",
    "        self.fill_char = '*'\n",
    "        self.width = 40\n",
    "        self.__update_amount(0)\n",
    "        if have_ipython:\n",
    "            self.animate = self.animate_ipython\n",
    "        else:\n",
    "            self.animate = self.animate_noipython\n",
    "\n",
    "    def animate_ipython(self, iter):\n",
    "        try:\n",
    "            clear_output()\n",
    "        except Exception:\n",
    "            # terminal IPython has no clear_output\n",
    "            pass\n",
    "        print '\\r', self,\n",
    "        sys.stdout.flush()\n",
    "        self.update_iteration(iter + 1)\n",
    "        \n",
    "    def update_iteration(self, elapsed_iter):\n",
    "        self.__update_amount((elapsed_iter / float(self.iterations)) * 100.0)\n",
    "        self.prog_bar += '  %d of %s complete' % (elapsed_iter, self.iterations)\n",
    "\n",
    "    def __update_amount(self, new_amount):\n",
    "        percent_done = int(round((new_amount / 100.0) * 100.0))\n",
    "        all_full = self.width - 2\n",
    "        num_hashes = int(round((percent_done / 100.0) * all_full))\n",
    "        self.prog_bar = '[' + self.fill_char * num_hashes + ' ' * (all_full - num_hashes) + ']'\n",
    "        pct_place = (len(self.prog_bar) / 2) - len(str(percent_done))\n",
    "        pct_string = '%d%%' % percent_done\n",
    "        self.prog_bar = self.prog_bar[0:pct_place] + \\\n",
    "            (pct_string + self.prog_bar[pct_place + len(pct_string):])\n",
    "\n",
    "    def __str__(self):\n",
    "        return str(self.prog_bar)\n",
    "\n",
    "    def run(self):\n",
    "        for i in range(1000):\n",
    "            self.animate(i)"
   ]
  },
  {
   "cell_type": "code",
   "execution_count": 25,
   "metadata": {
    "collapsed": false
   },
   "outputs": [],
   "source": [
    "x = ProgressBar(1000)"
   ]
  },
  {
   "cell_type": "code",
   "execution_count": 37,
   "metadata": {
    "collapsed": false
   },
   "outputs": [
    {
     "name": "stdout",
     "output_type": "stream",
     "text": [
      "\n"
     ]
    }
   ],
   "source": [
    "for i in range(1000):\n",
    "    x.animate_ipython(i)\n",
    "    import time\n",
    "clear_output()"
   ]
  },
  {
   "cell_type": "code",
   "execution_count": 38,
   "metadata": {
    "collapsed": false
   },
   "outputs": [],
   "source": [
    "time.sleep?"
   ]
  },
  {
   "cell_type": "code",
   "execution_count": 9,
   "metadata": {
    "collapsed": false
   },
   "outputs": [
    {
     "data": {
      "text/plain": [
       "7000"
      ]
     },
     "execution_count": 9,
     "metadata": {},
     "output_type": "execute_result"
    }
   ],
   "source": [
    "len(DS)"
   ]
  },
  {
   "cell_type": "code",
   "execution_count": 14,
   "metadata": {
    "collapsed": false
   },
   "outputs": [
    {
     "data": {
      "text/plain": [
       "array([[ 1.,  1.,  1., ...,  1.,  1.,  0.],\n",
       "       [ 1.,  1.,  1., ...,  1.,  1.,  1.],\n",
       "       [ 1.,  1.,  1., ...,  0.,  1.,  1.],\n",
       "       ..., \n",
       "       [ 1.,  1.,  1., ...,  1.,  1.,  1.],\n",
       "       [ 1.,  1.,  1., ...,  1.,  1.,  1.],\n",
       "       [ 1.,  1.,  1., ...,  1.,  1.,  1.]])"
      ]
     },
     "execution_count": 14,
     "metadata": {},
     "output_type": "execute_result"
    }
   ],
   "source": [
    "DS['input']"
   ]
  },
  {
   "cell_type": "code",
   "execution_count": null,
   "metadata": {
    "collapsed": true
   },
   "outputs": [],
   "source": [
    "net.activate()"
   ]
  },
  {
   "cell_type": "raw",
   "metadata": {},
   "source": [
    "验证"
   ]
  },
  {
   "cell_type": "code",
   "execution_count": 19,
   "metadata": {
    "collapsed": false
   },
   "outputs": [
    {
     "name": "stdout",
     "output_type": "stream",
     "text": [
      "++++++++++++++++++++\n",
      "++++++++++++++--++++\n",
      "+---++++++++++----++\n",
      "++----+++++++++---++\n",
      "+++---+++++++++---++\n",
      "+++---+--++++++--+++\n",
      "+++-------++++---++-\n",
      "++-----+++-+++------\n",
      "------++++--++------\n",
      "+++--++-++-----++++-\n",
      "++-----++++++-++--+-\n",
      "+----++---++++++---+\n",
      "+++++------++-++--++\n",
      "+----------+--+----+\n",
      "--+++++--++--++-----\n",
      "++++----++---++--+--\n",
      "+------++---++--+++-\n",
      "++-+++++++--++--++++\n",
      "++++-----+--+--+++++\n",
      "-----+--+++++-+-++++\n",
      "predic: [ 0.11000024]\n",
      "should:  1\n",
      "++++++++++++++----++\n",
      "++++++++++++++-----+\n",
      "+++++++++++++++---+-\n",
      "++++++++++++++----+-\n",
      "----+++++++++++---++\n",
      "----+++++++++++---++\n",
      "+---+++++++++++-----\n",
      "+----+++++--++------\n",
      "++---++++----+---+--\n",
      "++---+++-----++--+-+\n",
      "++-------+---+----++\n",
      "+++----++++--+------\n",
      "+++---+--+----------\n",
      "+-----++----------+-\n",
      "------+++----++++---\n",
      "++++-----+---++++---\n",
      "+++++---++-----+----\n",
      "+++++---++----------\n",
      "+++++--++++------+--\n",
      "++++----++--++---+--\n",
      "predic: [ 0.37261858]\n",
      "should:  1\n",
      "-+++++++++++++++++++\n",
      "--+++++++++++---++++\n",
      "-+---++++++++----+++\n",
      "-+------++++++---+++\n",
      "-++------+++++---+--\n",
      "-+++------++++------\n",
      "---------+--------++\n",
      "-------++++-----+++-\n",
      "+-----++++++++------\n",
      "+-+---+---++-------+\n",
      "-++---------++--++++\n",
      "-------+++--++------\n",
      "-------+++-------++-\n",
      "-+-----+----++--+++-\n",
      "------------++------\n",
      "--------++------++--\n",
      "--------++--++--++--\n",
      "----++--+++-----++--\n",
      "+---++---+----------\n",
      "+---++----------++++\n",
      "predic: [ 0.06399039]\n",
      "should:  1\n",
      "---------------+++--\n",
      "+++---++--------++--\n",
      "+++---+++-+++++++--+\n",
      "++----++--++++-++--+\n",
      "+-++--+--++++---+--+\n",
      "-----+---++++---+---\n",
      "-----------+++------\n",
      "--+++--++--+++++----\n",
      "-++++--++--+++++---+\n",
      "--------+--+++++---+\n",
      "+++---+++--+--------\n",
      "+++---+++--+++----++\n",
      "-+-----+---++++--+++\n",
      "------------++---+++\n",
      "++++++--++--+++---++\n",
      "++++---++++++++-----\n",
      "++----++++----------\n",
      "+-----++++-------+++\n",
      "++----+++++----+++++\n",
      "+++--+++++++--++++++\n",
      "predic: [-0.17149964]\n",
      "should:  0\n",
      "------+++++---++--+-\n",
      "----+++++++--+++--+-\n",
      "---+++++++---+++----\n",
      "---++++++++--+++----\n",
      "+---+++++++--+----+-\n",
      "+---++----+----+--+-\n",
      "+---------+---++--+-\n",
      "++----++++---+++----\n",
      "-----+++++----++----\n",
      "-----+++++++---+----\n",
      "+++---+++++++++++---\n",
      "+++-------++++++----\n",
      "+++------++++++-----\n",
      "++----+++++++++-----\n",
      "-------+++++++++----\n",
      "---+---+++++++++----\n",
      "+++++--+++++++++++++\n",
      "++++----+++++++++++-\n",
      "+++++---++++++++++--\n",
      "+++++----++++++++---\n",
      "predic: [ 0.0442023]\n",
      "should:  0\n",
      "-++----+++++++++++++\n",
      "--------++++++++++++\n",
      "-----++++++++++++---\n",
      "-----++++++++++-----\n",
      "------+++++---------\n",
      "------++++--------++\n",
      "-----++++++++++---++\n",
      "--+--++++++++++---+-\n",
      "--+--++++-++++------\n",
      "--+--++++---------++\n",
      "-----------+++++--+-\n",
      "-----------+++++--+-\n",
      "------++--+----+--++\n",
      "------++--++---+--++\n",
      "------++--+++-+---+-\n",
      "--------+++++++---++\n",
      "+++----++++---+---++\n",
      "+++---++++++---+--++\n",
      "++----+++++++++++-++\n",
      "+-----++++++++------\n",
      "predic: [-0.01033899]\n",
      "should:  1\n",
      "++---++-+++---++-+--\n",
      "++---++---+++----+--\n",
      "+---+++----++---++--\n",
      "-----+++------++++--\n",
      "+-------+++--+++----\n",
      "++------------------\n",
      "+++----+-+---++++++-\n",
      "+++++++--+---+-+++++\n",
      "-+++++---+--+---++++\n",
      "--++++---+++---+++--\n",
      "----++---+++---+++--\n",
      "+----+---+++---+++--\n",
      "++++++---+++---++---\n",
      "++++++---+++---+++-+\n",
      "--++++---+++--+++--+\n",
      "--------------------\n",
      "-------+---++---+++-\n",
      "++++++++--++++++++++\n",
      "++++++++---+++++++++\n",
      "++++++++----++++++++\n",
      "predic: [ 0.03586059]\n",
      "should:  0\n"
     ]
    }
   ],
   "source": [
    "from chunhu.util import *\n",
    "import sys, time\n",
    "ret = RandomGenerateOneFile()\n",
    "for i in Seven(ret):\n",
    "    ip = [0 if x < 200 else 1 for x in i[0].ravel().tolist()]\n",
    "    showAscii(i[0]),\n",
    "    print \"predic:\" , net.activate(ip)\n",
    "    print \"should: \", i[1]"
   ]
  },
  {
   "cell_type": "code",
   "execution_count": 10,
   "metadata": {
    "collapsed": true
   },
   "outputs": [],
   "source": [
    "import pickle\n",
    "pickle.dump( net, open( \"net.p\", \"wb\" ) )"
   ]
  },
  {
   "cell_type": "code",
   "execution_count": null,
   "metadata": {
    "collapsed": false
   },
   "outputs": [],
   "source": []
  },
  {
   "cell_type": "code",
   "execution_count": null,
   "metadata": {
    "collapsed": true
   },
   "outputs": [],
   "source": []
  }
 ],
 "metadata": {
  "kernelspec": {
   "display_name": "Python 2",
   "language": "python",
   "name": "python2"
  },
  "language_info": {
   "codemirror_mode": {
    "name": "ipython",
    "version": 2
   },
   "file_extension": ".py",
   "mimetype": "text/x-python",
   "name": "python",
   "nbconvert_exporter": "python",
   "pygments_lexer": "ipython2",
   "version": "2.7.6"
  }
 },
 "nbformat": 4,
 "nbformat_minor": 0
}
