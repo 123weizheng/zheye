{
 "cells": [
  {
   "cell_type": "code",
   "execution_count": 1,
   "metadata": {
    "collapsed": false
   },
   "outputs": [
    {
     "name": "stderr",
     "output_type": "stream",
     "text": [
      "Using TensorFlow backend.\n"
     ]
    }
   ],
   "source": [
    "from __future__ import print_function\n",
    "import keras\n",
    "from keras.datasets import mnist\n",
    "from keras.models import Sequential\n",
    "from keras.layers import Dense, Dropout, Flatten\n",
    "from keras.layers import Conv2D, MaxPooling2D\n",
    "from keras import backend as K\n",
    "\n",
    "import numpy as np"
   ]
  },
  {
   "cell_type": "code",
   "execution_count": 3,
   "metadata": {
    "collapsed": true
   },
   "outputs": [],
   "source": [
    "batch_size = 1000\n",
    "num_classes = 2\n",
    "epochs = 60"
   ]
  },
  {
   "cell_type": "code",
   "execution_count": 4,
   "metadata": {
    "collapsed": true
   },
   "outputs": [],
   "source": [
    "train_X = np.load('./train_X.npy')\n",
    "train_Y = np.load('./train_Y.npy')"
   ]
  },
  {
   "cell_type": "code",
   "execution_count": 5,
   "metadata": {
    "collapsed": true
   },
   "outputs": [],
   "source": [
    "testing_X = np.load('./testing_X.npy')\n",
    "testing_Y = np.load('./testing_Y.npy')"
   ]
  },
  {
   "cell_type": "code",
   "execution_count": null,
   "metadata": {
    "collapsed": true
   },
   "outputs": [],
   "source": [
    "#train_X = train_X.astype('float32')\n",
    "#testing_X = testing_X.astype('float32')\n",
    "#train_X /= 255\n",
    "#testing_X /= 255"
   ]
  },
  {
   "cell_type": "code",
   "execution_count": 6,
   "metadata": {
    "collapsed": false
   },
   "outputs": [
    {
     "data": {
      "text/plain": [
       "dtype('float64')"
      ]
     },
     "execution_count": 6,
     "metadata": {},
     "output_type": "execute_result"
    }
   ],
   "source": [
    "train_X.dtype"
   ]
  },
  {
   "cell_type": "code",
   "execution_count": 7,
   "metadata": {
    "collapsed": false
   },
   "outputs": [
    {
     "data": {
      "text/plain": [
       "(35000, 40, 40, 1)"
      ]
     },
     "execution_count": 7,
     "metadata": {},
     "output_type": "execute_result"
    }
   ],
   "source": [
    "train_X.shape"
   ]
  },
  {
   "cell_type": "code",
   "execution_count": 8,
   "metadata": {
    "collapsed": true
   },
   "outputs": [],
   "source": [
    "model = Sequential()\n",
    "model.add(Conv2D(32, kernel_size=(3, 3),\n",
    "                 activation='relu',\n",
    "                 input_shape=(40, 40, 1)))\n",
    "model.add(Conv2D(64, (3, 3), activation='relu'))\n",
    "model.add(MaxPooling2D(pool_size=(2, 2)))\n",
    "model.add(Dropout(0.25))\n",
    "model.add(Flatten())\n",
    "model.add(Dense(128, activation='relu'))\n",
    "model.add(Dropout(0.5))\n",
    "model.add(Dense(num_classes, activation='softmax'))"
   ]
  },
  {
   "cell_type": "code",
   "execution_count": 9,
   "metadata": {
    "collapsed": true
   },
   "outputs": [],
   "source": [
    "model.compile(loss=keras.losses.categorical_crossentropy,\n",
    "              optimizer=keras.optimizers.Adadelta(),\n",
    "              metrics=['accuracy'])"
   ]
  },
  {
   "cell_type": "code",
   "execution_count": 10,
   "metadata": {
    "collapsed": false
   },
   "outputs": [
    {
     "name": "stdout",
     "output_type": "stream",
     "text": [
      "Train on 35000 samples, validate on 1400 samples\n",
      "Epoch 1/60\n",
      "35000/35000 [==============================] - 409s - loss: 0.6955 - acc: 0.5506 - val_loss: 0.6601 - val_acc: 0.6650\n",
      "Epoch 2/60\n",
      "35000/35000 [==============================] - 428s - loss: 0.6463 - acc: 0.6281 - val_loss: 0.6409 - val_acc: 0.6050\n",
      "Epoch 3/60\n",
      "35000/35000 [==============================] - 468s - loss: 0.5833 - acc: 0.6982 - val_loss: 0.5399 - val_acc: 0.7214\n",
      "Epoch 4/60\n",
      "35000/35000 [==============================] - 495s - loss: 0.5146 - acc: 0.7531 - val_loss: 0.4560 - val_acc: 0.8050\n",
      "Epoch 5/60\n",
      "35000/35000 [==============================] - 478s - loss: 0.4779 - acc: 0.7764 - val_loss: 0.4853 - val_acc: 0.7571\n",
      "Epoch 6/60\n",
      "35000/35000 [==============================] - 507s - loss: 0.4515 - acc: 0.7918 - val_loss: 0.4008 - val_acc: 0.8121\n",
      "Epoch 7/60\n",
      "35000/35000 [==============================] - 457s - loss: 0.4320 - acc: 0.8041 - val_loss: 0.5134 - val_acc: 0.7271\n",
      "Epoch 8/60\n",
      "35000/35000 [==============================] - 458s - loss: 0.4157 - acc: 0.8116 - val_loss: 0.4014 - val_acc: 0.8071\n",
      "Epoch 9/60\n",
      "35000/35000 [==============================] - 455s - loss: 0.4064 - acc: 0.8182 - val_loss: 0.4049 - val_acc: 0.8229\n",
      "Epoch 10/60\n",
      "35000/35000 [==============================] - 495s - loss: 0.3920 - acc: 0.8259 - val_loss: 0.3408 - val_acc: 0.8614\n",
      "Epoch 11/60\n",
      "35000/35000 [==============================] - 529s - loss: 0.3763 - acc: 0.8338 - val_loss: 0.3441 - val_acc: 0.8579\n",
      "Epoch 12/60\n",
      "35000/35000 [==============================] - 494s - loss: 0.3695 - acc: 0.8376 - val_loss: 0.3731 - val_acc: 0.8386\n",
      "Epoch 13/60\n",
      "35000/35000 [==============================] - 494s - loss: 0.3467 - acc: 0.8490 - val_loss: 0.3471 - val_acc: 0.8386\n",
      "Epoch 14/60\n",
      "35000/35000 [==============================] - 552s - loss: 0.3331 - acc: 0.8555 - val_loss: 0.2859 - val_acc: 0.8793\n",
      "Epoch 15/60\n",
      "35000/35000 [==============================] - 503s - loss: 0.3291 - acc: 0.8561 - val_loss: 0.3648 - val_acc: 0.8157\n",
      "Epoch 16/60\n",
      "35000/35000 [==============================] - 565s - loss: 0.3058 - acc: 0.8710 - val_loss: 0.2671 - val_acc: 0.8907\n",
      "Epoch 17/60\n",
      "35000/35000 [==============================] - 488s - loss: 0.3006 - acc: 0.8727 - val_loss: 0.2820 - val_acc: 0.8871\n",
      "Epoch 18/60\n",
      "35000/35000 [==============================] - 462s - loss: 0.2738 - acc: 0.8876 - val_loss: 0.2416 - val_acc: 0.9036\n",
      "Epoch 19/60\n",
      "35000/35000 [==============================] - 426s - loss: 0.2762 - acc: 0.8845 - val_loss: 0.2734 - val_acc: 0.8807\n",
      "Epoch 20/60\n",
      "35000/35000 [==============================] - 426s - loss: 0.2565 - acc: 0.8951 - val_loss: 0.2658 - val_acc: 0.8800\n",
      "Epoch 21/60\n",
      "35000/35000 [==============================] - 429s - loss: 0.2573 - acc: 0.8920 - val_loss: 0.2945 - val_acc: 0.8793\n",
      "Epoch 22/60\n",
      "35000/35000 [==============================] - 417s - loss: 0.2315 - acc: 0.9097 - val_loss: 0.2253 - val_acc: 0.9086\n",
      "Epoch 23/60\n",
      "35000/35000 [==============================] - 413s - loss: 0.2158 - acc: 0.9128 - val_loss: 0.3701 - val_acc: 0.8207\n",
      "Epoch 24/60\n",
      "35000/35000 [==============================] - 415s - loss: 0.2137 - acc: 0.9141 - val_loss: 0.2698 - val_acc: 0.8871\n",
      "Epoch 25/60\n",
      "35000/35000 [==============================] - 417s - loss: 0.2029 - acc: 0.9186 - val_loss: 0.2005 - val_acc: 0.9243\n",
      "Epoch 26/60\n",
      "35000/35000 [==============================] - 427s - loss: 0.2004 - acc: 0.9187 - val_loss: 0.2042 - val_acc: 0.9250\n",
      "Epoch 27/60\n",
      "35000/35000 [==============================] - 425s - loss: 0.1754 - acc: 0.9327 - val_loss: 0.2038 - val_acc: 0.9186\n",
      "Epoch 28/60\n",
      "35000/35000 [==============================] - 422s - loss: 0.1747 - acc: 0.9318 - val_loss: 0.2093 - val_acc: 0.9143\n",
      "Epoch 29/60\n",
      "35000/35000 [==============================] - 418s - loss: 0.1610 - acc: 0.9367 - val_loss: 0.2233 - val_acc: 0.9043\n",
      "Epoch 30/60\n",
      "35000/35000 [==============================] - 413s - loss: 0.1566 - acc: 0.9391 - val_loss: 0.1899 - val_acc: 0.9250\n",
      "Epoch 31/60\n",
      "35000/35000 [==============================] - 416s - loss: 0.1314 - acc: 0.9523 - val_loss: 0.2157 - val_acc: 0.9071\n",
      "Epoch 32/60\n",
      "35000/35000 [==============================] - 422s - loss: 0.1225 - acc: 0.9537 - val_loss: 0.1731 - val_acc: 0.9321\n",
      "Epoch 33/60\n",
      "35000/35000 [==============================] - 420s - loss: 0.1260 - acc: 0.9527 - val_loss: 0.1522 - val_acc: 0.9421\n",
      "Epoch 34/60\n",
      "35000/35000 [==============================] - 425s - loss: 0.1246 - acc: 0.9532 - val_loss: 0.1827 - val_acc: 0.9250\n",
      "Epoch 35/60\n",
      "35000/35000 [==============================] - 424s - loss: 0.1097 - acc: 0.9617 - val_loss: 0.1490 - val_acc: 0.9486\n",
      "Epoch 36/60\n",
      "35000/35000 [==============================] - 418s - loss: 0.0949 - acc: 0.9668 - val_loss: 0.1514 - val_acc: 0.9393\n",
      "Epoch 37/60\n",
      "35000/35000 [==============================] - 412s - loss: 0.0993 - acc: 0.9628 - val_loss: 0.1574 - val_acc: 0.9414\n",
      "Epoch 38/60\n",
      "35000/35000 [==============================] - 420s - loss: 0.0779 - acc: 0.9750 - val_loss: 0.1523 - val_acc: 0.9364\n",
      "Epoch 39/60\n",
      "35000/35000 [==============================] - 416s - loss: 0.0699 - acc: 0.9768 - val_loss: 0.1870 - val_acc: 0.9229\n",
      "Epoch 40/60\n",
      "35000/35000 [==============================] - 419s - loss: 0.0710 - acc: 0.9756 - val_loss: 0.1447 - val_acc: 0.9457\n",
      "Epoch 41/60\n",
      "35000/35000 [==============================] - 409s - loss: 0.0745 - acc: 0.9744 - val_loss: 0.1324 - val_acc: 0.9507\n",
      "Epoch 42/60\n",
      "35000/35000 [==============================] - 409s - loss: 0.0556 - acc: 0.9818 - val_loss: 0.1557 - val_acc: 0.9386\n",
      "Epoch 43/60\n",
      "35000/35000 [==============================] - 426s - loss: 0.0695 - acc: 0.9760 - val_loss: 0.1458 - val_acc: 0.9443\n",
      "Epoch 44/60\n",
      "35000/35000 [==============================] - 404s - loss: 0.0504 - acc: 0.9846 - val_loss: 0.1308 - val_acc: 0.9507\n",
      "Epoch 45/60\n",
      "35000/35000 [==============================] - 403s - loss: 0.0570 - acc: 0.9805 - val_loss: 0.1276 - val_acc: 0.9521\n",
      "Epoch 46/60\n",
      "35000/35000 [==============================] - 412s - loss: 0.0469 - acc: 0.9853 - val_loss: 0.1770 - val_acc: 0.9307\n",
      "Epoch 47/60\n",
      "35000/35000 [==============================] - 400s - loss: 0.0519 - acc: 0.9828 - val_loss: 0.2123 - val_acc: 0.9207\n",
      "Epoch 48/60\n",
      "35000/35000 [==============================] - 406s - loss: 0.0420 - acc: 0.9868 - val_loss: 0.1314 - val_acc: 0.9500\n",
      "Epoch 49/60\n",
      "35000/35000 [==============================] - 400s - loss: 0.0497 - acc: 0.9833 - val_loss: 0.1331 - val_acc: 0.9486\n",
      "Epoch 50/60\n",
      "35000/35000 [==============================] - 404s - loss: 0.0355 - acc: 0.9899 - val_loss: 0.1265 - val_acc: 0.9536\n",
      "Epoch 51/60\n",
      "35000/35000 [==============================] - 400s - loss: 0.0368 - acc: 0.9894 - val_loss: 0.1297 - val_acc: 0.9514\n",
      "Epoch 52/60\n",
      "35000/35000 [==============================] - 396s - loss: 0.0321 - acc: 0.9905 - val_loss: 0.1331 - val_acc: 0.9521\n",
      "Epoch 53/60\n",
      "35000/35000 [==============================] - 411s - loss: 0.0396 - acc: 0.9877 - val_loss: 0.1297 - val_acc: 0.9536\n",
      "Epoch 54/60\n",
      "35000/35000 [==============================] - 390s - loss: 0.0291 - acc: 0.9921 - val_loss: 0.1322 - val_acc: 0.9550\n",
      "Epoch 55/60\n",
      "35000/35000 [==============================] - 398s - loss: 0.0282 - acc: 0.9919 - val_loss: 0.1703 - val_acc: 0.9371\n",
      "Epoch 56/60\n",
      "35000/35000 [==============================] - 399s - loss: 0.0287 - acc: 0.9912 - val_loss: 0.1412 - val_acc: 0.9464\n",
      "Epoch 57/60\n",
      "35000/35000 [==============================] - 387s - loss: 0.0741 - acc: 0.9728 - val_loss: 0.1261 - val_acc: 0.9550\n",
      "Epoch 58/60\n",
      "35000/35000 [==============================] - 402s - loss: 0.0245 - acc: 0.9933 - val_loss: 0.1245 - val_acc: 0.9571\n",
      "Epoch 59/60\n",
      "35000/35000 [==============================] - 398s - loss: 0.0211 - acc: 0.9945 - val_loss: 0.1306 - val_acc: 0.9529\n",
      "Epoch 60/60\n",
      "35000/35000 [==============================] - 398s - loss: 0.0219 - acc: 0.9938 - val_loss: 0.1303 - val_acc: 0.9543\n"
     ]
    },
    {
     "data": {
      "text/plain": [
       "<keras.callbacks.History at 0x7f9e60e1d310>"
      ]
     },
     "execution_count": 10,
     "metadata": {},
     "output_type": "execute_result"
    }
   ],
   "source": [
    "model.fit(train_X, train_Y, batch_size=batch_size, epochs=epochs,\n",
    "          verbose=1, validation_data=(testing_X, testing_Y))"
   ]
  },
  {
   "cell_type": "code",
   "execution_count": 11,
   "metadata": {
    "collapsed": false
   },
   "outputs": [
    {
     "name": "stdout",
     "output_type": "stream",
     "text": [
      "Test loss: 0.130273327253\n",
      "Test accuracy: 0.954285714626\n"
     ]
    }
   ],
   "source": [
    "score = model.evaluate(testing_X, testing_Y, verbose=0)\n",
    "print('Test loss:', score[0])\n",
    "print('Test accuracy:', score[1])"
   ]
  },
  {
   "cell_type": "code",
   "execution_count": 14,
   "metadata": {
    "collapsed": false
   },
   "outputs": [],
   "source": [
    "model.save('./chunhu.keras')"
   ]
  },
  {
   "cell_type": "code",
   "execution_count": null,
   "metadata": {
    "collapsed": true
   },
   "outputs": [],
   "source": []
  }
 ],
 "metadata": {
  "kernelspec": {
   "display_name": "Python 2",
   "language": "python",
   "name": "python2"
  },
  "language_info": {
   "codemirror_mode": {
    "name": "ipython",
    "version": 2
   },
   "file_extension": ".py",
   "mimetype": "text/x-python",
   "name": "python",
   "nbconvert_exporter": "python",
   "pygments_lexer": "ipython2",
   "version": "2.7.6"
  }
 },
 "nbformat": 4,
 "nbformat_minor": 1
}
