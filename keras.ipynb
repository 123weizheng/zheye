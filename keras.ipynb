{
 "cells": [
  {
   "cell_type": "code",
   "execution_count": 1,
   "metadata": {
    "collapsed": false
   },
   "outputs": [
    {
     "name": "stderr",
     "output_type": "stream",
     "text": [
      "Using TensorFlow backend.\n"
     ]
    }
   ],
   "source": [
    "import keras\n",
    "from keras.datasets import mnist\n",
    "from keras.models import Sequential\n",
    "from keras.layers import Dense, Dropout, Flatten, Activation\n",
    "from keras.layers import Conv2D, MaxPooling2D, BatchNormalization\n",
    "from keras import backend as K\n",
    "\n",
    "import numpy as np"
   ]
  },
  {
   "cell_type": "code",
   "execution_count": 31,
   "metadata": {
    "collapsed": true
   },
   "outputs": [],
   "source": [
    "batch_size = 600\n",
    "num_classes = 2\n",
    "epochs = 100"
   ]
  },
  {
   "cell_type": "code",
   "execution_count": 3,
   "metadata": {
    "collapsed": true
   },
   "outputs": [],
   "source": [
    "train_X = np.load('./train_X.npy')\n",
    "train_Y = np.load('./train_Y.npy')"
   ]
  },
  {
   "cell_type": "code",
   "execution_count": 4,
   "metadata": {
    "collapsed": false
   },
   "outputs": [],
   "source": [
    "test_X = np.load('./test_X.npy')\n",
    "test_Y = np.load('./test_Y.npy')"
   ]
  },
  {
   "cell_type": "code",
   "execution_count": 5,
   "metadata": {
    "collapsed": false
   },
   "outputs": [
    {
     "data": {
      "text/plain": [
       "dtype('float64')"
      ]
     },
     "execution_count": 5,
     "metadata": {},
     "output_type": "execute_result"
    }
   ],
   "source": [
    "train_X.dtype"
   ]
  },
  {
   "cell_type": "code",
   "execution_count": 6,
   "metadata": {
    "collapsed": false
   },
   "outputs": [
    {
     "data": {
      "text/plain": [
       "(12000, 40, 40, 1)"
      ]
     },
     "execution_count": 6,
     "metadata": {},
     "output_type": "execute_result"
    }
   ],
   "source": [
    "train_X.shape"
   ]
  },
  {
   "cell_type": "code",
   "execution_count": 7,
   "metadata": {
    "collapsed": false
   },
   "outputs": [
    {
     "data": {
      "text/plain": [
       "(120, 40, 40, 1)"
      ]
     },
     "execution_count": 7,
     "metadata": {},
     "output_type": "execute_result"
    }
   ],
   "source": [
    "test_X.shape"
   ]
  },
  {
   "cell_type": "code",
   "execution_count": 32,
   "metadata": {
    "collapsed": false
   },
   "outputs": [],
   "source": [
    "model = Sequential()\n",
    "model.add(Conv2D(32, kernel_size=(3, 3), activation='relu',input_shape=(40, 40, 1)))\n",
    "model.add(Conv2D(32, (3, 3), strides=1, activation='relu'))\n",
    "model.add(MaxPooling2D(pool_size=(2, 2)))\n",
    "model.add(Dropout(0.3))\n",
    "\n",
    "model.add(BatchNormalization())\n",
    "model.add(Conv2D(64, (3, 3), activation='relu'))\n",
    "model.add(MaxPooling2D(pool_size=(2, 2)))\n",
    "\n",
    "model.add(Flatten())\n",
    "model.add(Dense(128, activation='relu'))\n",
    "model.add(Dropout(0.5))\n",
    "model.add(Dense(num_classes))\n",
    "model.add(Activation('softmax'))"
   ]
  },
  {
   "cell_type": "code",
   "execution_count": 33,
   "metadata": {
    "collapsed": true
   },
   "outputs": [],
   "source": [
    "model.compile(loss=keras.losses.categorical_crossentropy,\n",
    "              optimizer=keras.optimizers.Adadelta(),\n",
    "              metrics=['accuracy'])"
   ]
  },
  {
   "cell_type": "code",
   "execution_count": 34,
   "metadata": {
    "collapsed": false,
    "scrolled": false
   },
   "outputs": [
    {
     "name": "stdout",
     "output_type": "stream",
     "text": [
      "Train on 12000 samples, validate on 120 samples\n",
      "Epoch 1/100\n",
      "12000/12000 [==============================] - 101s - loss: 0.9645 - acc: 0.5344 - val_loss: 0.6860 - val_acc: 0.6417\n",
      "Epoch 2/100\n",
      "12000/12000 [==============================] - 101s - loss: 0.6713 - acc: 0.5844 - val_loss: 0.6802 - val_acc: 0.7000\n",
      "Epoch 3/100\n",
      "12000/12000 [==============================] - 108s - loss: 0.6496 - acc: 0.6233 - val_loss: 0.6700 - val_acc: 0.7000\n",
      "Epoch 4/100\n",
      "12000/12000 [==============================] - 107s - loss: 0.6282 - acc: 0.6504 - val_loss: 0.6569 - val_acc: 0.6750\n",
      "Epoch 5/100\n",
      "12000/12000 [==============================] - 105s - loss: 0.6105 - acc: 0.6615 - val_loss: 0.6540 - val_acc: 0.6667\n",
      "Epoch 6/100\n",
      "12000/12000 [==============================] - 104s - loss: 0.5872 - acc: 0.6868 - val_loss: 0.6487 - val_acc: 0.6917\n",
      "Epoch 7/100\n",
      "12000/12000 [==============================] - 101s - loss: 0.5745 - acc: 0.6939 - val_loss: 0.6380 - val_acc: 0.7750\n",
      "Epoch 8/100\n",
      "12000/12000 [==============================] - 104s - loss: 0.5461 - acc: 0.7275 - val_loss: 0.6228 - val_acc: 0.7667\n",
      "Epoch 9/100\n",
      "12000/12000 [==============================] - 101s - loss: 0.5339 - acc: 0.7332 - val_loss: 0.6210 - val_acc: 0.7583\n",
      "Epoch 10/100\n",
      "12000/12000 [==============================] - 105s - loss: 0.5192 - acc: 0.7449 - val_loss: 0.6144 - val_acc: 0.7417\n",
      "Epoch 11/100\n",
      "12000/12000 [==============================] - 100s - loss: 0.5074 - acc: 0.7579 - val_loss: 0.5966 - val_acc: 0.7833\n",
      "Epoch 12/100\n",
      "12000/12000 [==============================] - 112s - loss: 0.4732 - acc: 0.7754 - val_loss: 0.5961 - val_acc: 0.7750\n",
      "Epoch 13/100\n",
      "12000/12000 [==============================] - 104s - loss: 0.4729 - acc: 0.7760 - val_loss: 0.5862 - val_acc: 0.8500\n",
      "Epoch 14/100\n",
      "12000/12000 [==============================] - 104s - loss: 0.4471 - acc: 0.7913 - val_loss: 0.5612 - val_acc: 0.7917\n",
      "Epoch 15/100\n",
      "12000/12000 [==============================] - 99s - loss: 0.4118 - acc: 0.8116 - val_loss: 0.5419 - val_acc: 0.7500\n",
      "Epoch 16/100\n",
      "12000/12000 [==============================] - 99s - loss: 0.4180 - acc: 0.8060 - val_loss: 0.5303 - val_acc: 0.7917\n",
      "Epoch 17/100\n",
      "12000/12000 [==============================] - 98s - loss: 0.3760 - acc: 0.8307 - val_loss: 0.5116 - val_acc: 0.7917\n",
      "Epoch 18/100\n",
      "12000/12000 [==============================] - 99s - loss: 0.3730 - acc: 0.8328 - val_loss: 0.6784 - val_acc: 0.4833\n",
      "Epoch 19/100\n",
      "12000/12000 [==============================] - 99s - loss: 0.3446 - acc: 0.8511 - val_loss: 0.4607 - val_acc: 0.8167\n",
      "Epoch 20/100\n",
      "12000/12000 [==============================] - 99s - loss: 0.3410 - acc: 0.8511 - val_loss: 0.4221 - val_acc: 0.8583\n",
      "Epoch 21/100\n",
      "12000/12000 [==============================] - 99s - loss: 0.3061 - acc: 0.8721 - val_loss: 0.4094 - val_acc: 0.8583\n",
      "Epoch 22/100\n",
      "12000/12000 [==============================] - 102s - loss: 0.2905 - acc: 0.8795 - val_loss: 0.4723 - val_acc: 0.7417\n",
      "Epoch 23/100\n",
      "12000/12000 [==============================] - 103s - loss: 0.2660 - acc: 0.8913 - val_loss: 0.8113 - val_acc: 0.5500\n",
      "Epoch 24/100\n",
      "12000/12000 [==============================] - 106s - loss: 0.2803 - acc: 0.8832 - val_loss: 0.7114 - val_acc: 0.5833\n",
      "Epoch 25/100\n",
      "12000/12000 [==============================] - 99s - loss: 0.2603 - acc: 0.8926 - val_loss: 0.3213 - val_acc: 0.8917\n",
      "Epoch 26/100\n",
      "12000/12000 [==============================] - 99s - loss: 0.2372 - acc: 0.9025 - val_loss: 0.2924 - val_acc: 0.8833\n",
      "Epoch 27/100\n",
      "12000/12000 [==============================] - 102s - loss: 0.2289 - acc: 0.9105 - val_loss: 0.3021 - val_acc: 0.8917\n",
      "Epoch 28/100\n",
      "12000/12000 [==============================] - 99s - loss: 0.2221 - acc: 0.9126 - val_loss: 0.3212 - val_acc: 0.8667\n",
      "Epoch 29/100\n",
      "12000/12000 [==============================] - 99s - loss: 0.1982 - acc: 0.9223 - val_loss: 0.2787 - val_acc: 0.8917\n",
      "Epoch 30/100\n",
      "12000/12000 [==============================] - 99s - loss: 0.1866 - acc: 0.9244 - val_loss: 0.2328 - val_acc: 0.8917\n",
      "Epoch 31/100\n",
      "12000/12000 [==============================] - 100s - loss: 0.1929 - acc: 0.9234 - val_loss: 0.2097 - val_acc: 0.9250\n",
      "Epoch 32/100\n",
      "12000/12000 [==============================] - 100s - loss: 0.1694 - acc: 0.9350 - val_loss: 0.2382 - val_acc: 0.8833\n",
      "Epoch 33/100\n",
      "12000/12000 [==============================] - 104s - loss: 0.1492 - acc: 0.9413 - val_loss: 0.3093 - val_acc: 0.8583\n",
      "Epoch 34/100\n",
      "12000/12000 [==============================] - 107s - loss: 0.1623 - acc: 0.9372 - val_loss: 0.3390 - val_acc: 0.8667\n",
      "Epoch 35/100\n",
      "12000/12000 [==============================] - 100s - loss: 0.1654 - acc: 0.9352 - val_loss: 0.2308 - val_acc: 0.9000\n",
      "Epoch 36/100\n",
      "12000/12000 [==============================] - 100s - loss: 0.1512 - acc: 0.9430 - val_loss: 0.1467 - val_acc: 0.9333\n",
      "Epoch 37/100\n",
      "12000/12000 [==============================] - 108s - loss: 0.1481 - acc: 0.9426 - val_loss: 0.5471 - val_acc: 0.7583\n",
      "Epoch 38/100\n",
      "12000/12000 [==============================] - 103s - loss: 0.1591 - acc: 0.9372 - val_loss: 0.1583 - val_acc: 0.9083\n",
      "Epoch 39/100\n",
      "12000/12000 [==============================] - 101s - loss: 0.1183 - acc: 0.9547 - val_loss: 0.2517 - val_acc: 0.9000\n",
      "Epoch 40/100\n",
      "12000/12000 [==============================] - 100s - loss: 0.1286 - acc: 0.9511 - val_loss: 0.1608 - val_acc: 0.9417\n",
      "Epoch 41/100\n",
      "12000/12000 [==============================] - 104s - loss: 0.1247 - acc: 0.9515 - val_loss: 0.2019 - val_acc: 0.9083\n",
      "Epoch 42/100\n",
      "12000/12000 [==============================] - 103s - loss: 0.1134 - acc: 0.9582 - val_loss: 0.2831 - val_acc: 0.8833\n",
      "Epoch 43/100\n",
      "12000/12000 [==============================] - 101s - loss: 0.1227 - acc: 0.9537 - val_loss: 0.1816 - val_acc: 0.9333\n",
      "Epoch 44/100\n",
      "12000/12000 [==============================] - 104s - loss: 0.1296 - acc: 0.9494 - val_loss: 0.1215 - val_acc: 0.9583\n",
      "Epoch 45/100\n",
      "12000/12000 [==============================] - 104s - loss: 0.0951 - acc: 0.9642 - val_loss: 0.1663 - val_acc: 0.9417\n",
      "Epoch 46/100\n",
      "12000/12000 [==============================] - 100s - loss: 0.1077 - acc: 0.9602 - val_loss: 0.1111 - val_acc: 0.9500\n",
      "Epoch 47/100\n",
      "12000/12000 [==============================] - 100s - loss: 0.0924 - acc: 0.9658 - val_loss: 0.1159 - val_acc: 0.9667\n",
      "Epoch 48/100\n",
      "12000/12000 [==============================] - 104s - loss: 0.1067 - acc: 0.9587 - val_loss: 0.4086 - val_acc: 0.8417\n",
      "Epoch 49/100\n",
      "12000/12000 [==============================] - 100s - loss: 0.0952 - acc: 0.9628 - val_loss: 0.3625 - val_acc: 0.8333\n",
      "Epoch 50/100\n",
      "12000/12000 [==============================] - 101s - loss: 0.1123 - acc: 0.9548 - val_loss: 0.1927 - val_acc: 0.9083\n",
      "Epoch 51/100\n",
      "12000/12000 [==============================] - 101s - loss: 0.0760 - acc: 0.9739 - val_loss: 0.1213 - val_acc: 0.9500\n",
      "Epoch 52/100\n",
      "12000/12000 [==============================] - 101s - loss: 0.0916 - acc: 0.9668 - val_loss: 0.1878 - val_acc: 0.9250\n",
      "Epoch 53/100\n",
      "12000/12000 [==============================] - 102s - loss: 0.0766 - acc: 0.9717 - val_loss: 0.0843 - val_acc: 0.9583\n",
      "Epoch 54/100\n",
      "12000/12000 [==============================] - 104s - loss: 0.0748 - acc: 0.9718 - val_loss: 0.3069 - val_acc: 0.8833\n",
      "Epoch 55/100\n",
      "12000/12000 [==============================] - 100s - loss: 0.0917 - acc: 0.9656 - val_loss: 0.0974 - val_acc: 0.9583\n",
      "Epoch 56/100\n",
      "12000/12000 [==============================] - 101s - loss: 0.0633 - acc: 0.9775 - val_loss: 0.1606 - val_acc: 0.9083\n",
      "Epoch 57/100\n",
      "12000/12000 [==============================] - 100s - loss: 0.0712 - acc: 0.9743 - val_loss: 0.1599 - val_acc: 0.9417\n",
      "Epoch 58/100\n",
      "12000/12000 [==============================] - 101s - loss: 0.0614 - acc: 0.9792 - val_loss: 0.0991 - val_acc: 0.9667\n",
      "Epoch 59/100\n",
      "12000/12000 [==============================] - 103s - loss: 0.0649 - acc: 0.9773 - val_loss: 0.0911 - val_acc: 0.9500\n",
      "Epoch 60/100\n",
      "12000/12000 [==============================] - 101s - loss: 0.0766 - acc: 0.9717 - val_loss: 0.2628 - val_acc: 0.8833\n",
      "Epoch 61/100\n",
      "12000/12000 [==============================] - 104s - loss: 0.0619 - acc: 0.9779 - val_loss: 0.1383 - val_acc: 0.9667\n",
      "Epoch 62/100\n",
      "12000/12000 [==============================] - 101s - loss: 0.0585 - acc: 0.9795 - val_loss: 0.0974 - val_acc: 0.9333\n",
      "Epoch 63/100\n",
      "12000/12000 [==============================] - 101s - loss: 0.0609 - acc: 0.9780 - val_loss: 0.0814 - val_acc: 0.9583\n",
      "Epoch 64/100\n",
      "12000/12000 [==============================] - 101s - loss: 0.0645 - acc: 0.9766 - val_loss: 0.1001 - val_acc: 0.9750\n",
      "Epoch 65/100\n",
      "12000/12000 [==============================] - 108s - loss: 0.0567 - acc: 0.9785 - val_loss: 0.1090 - val_acc: 0.9333\n",
      "Epoch 66/100\n",
      "12000/12000 [==============================] - 105s - loss: 0.0500 - acc: 0.9831 - val_loss: 0.0887 - val_acc: 0.9833\n",
      "Epoch 67/100\n",
      "12000/12000 [==============================] - 101s - loss: 0.0430 - acc: 0.9841 - val_loss: 0.2514 - val_acc: 0.9167\n",
      "Epoch 68/100\n",
      "12000/12000 [==============================] - 108s - loss: 0.0575 - acc: 0.9783 - val_loss: 0.0998 - val_acc: 0.9417\n",
      "Epoch 69/100\n",
      "12000/12000 [==============================] - 104s - loss: 0.0391 - acc: 0.9859 - val_loss: 0.0852 - val_acc: 0.9667\n",
      "Epoch 70/100\n",
      "12000/12000 [==============================] - 109s - loss: 0.0451 - acc: 0.9815 - val_loss: 0.2191 - val_acc: 0.9250\n",
      "Epoch 71/100\n",
      "12000/12000 [==============================] - 101s - loss: 0.0415 - acc: 0.9863 - val_loss: 0.0819 - val_acc: 0.9583\n",
      "Epoch 72/100\n",
      "12000/12000 [==============================] - 101s - loss: 0.0428 - acc: 0.9863 - val_loss: 0.0970 - val_acc: 0.9667\n",
      "Epoch 73/100\n",
      "12000/12000 [==============================] - 105s - loss: 0.0518 - acc: 0.9821 - val_loss: 0.1240 - val_acc: 0.9667\n",
      "Epoch 74/100\n",
      "12000/12000 [==============================] - 108s - loss: 0.0428 - acc: 0.9842 - val_loss: 0.0840 - val_acc: 0.9833\n",
      "Epoch 75/100\n",
      "12000/12000 [==============================] - 101s - loss: 0.0399 - acc: 0.9868 - val_loss: 0.1230 - val_acc: 0.9667\n",
      "Epoch 76/100\n",
      "12000/12000 [==============================] - 105s - loss: 0.0437 - acc: 0.9842 - val_loss: 0.0895 - val_acc: 0.9750\n",
      "Epoch 77/100\n",
      "12000/12000 [==============================] - 108s - loss: 0.0370 - acc: 0.9869 - val_loss: 0.0685 - val_acc: 0.9667\n",
      "Epoch 78/100\n",
      "12000/12000 [==============================] - 109s - loss: 0.0305 - acc: 0.9896 - val_loss: 0.1099 - val_acc: 0.9417\n",
      "Epoch 79/100\n",
      "12000/12000 [==============================] - 102s - loss: 0.0401 - acc: 0.9851 - val_loss: 0.0522 - val_acc: 0.9750\n",
      "Epoch 80/100\n",
      "12000/12000 [==============================] - 104s - loss: 0.0272 - acc: 0.9907 - val_loss: 0.0954 - val_acc: 0.9333\n",
      "Epoch 81/100\n",
      "12000/12000 [==============================] - 114s - loss: 0.0331 - acc: 0.9894 - val_loss: 0.1235 - val_acc: 0.9667\n",
      "Epoch 82/100\n",
      "12000/12000 [==============================] - 113s - loss: 0.0329 - acc: 0.9893 - val_loss: 0.0664 - val_acc: 0.9667\n",
      "Epoch 83/100\n",
      "12000/12000 [==============================] - 108s - loss: 0.0376 - acc: 0.9871 - val_loss: 0.2330 - val_acc: 0.9083\n",
      "Epoch 84/100\n",
      "12000/12000 [==============================] - 109s - loss: 0.0315 - acc: 0.9891 - val_loss: 0.1872 - val_acc: 0.9250\n",
      "Epoch 85/100\n",
      "12000/12000 [==============================] - 105s - loss: 0.0339 - acc: 0.9880 - val_loss: 0.0714 - val_acc: 0.9750\n",
      "Epoch 86/100\n",
      "12000/12000 [==============================] - 108s - loss: 0.0232 - acc: 0.9932 - val_loss: 0.0853 - val_acc: 0.9667\n",
      "Epoch 87/100\n",
      "12000/12000 [==============================] - 102s - loss: 0.0287 - acc: 0.9902 - val_loss: 0.2639 - val_acc: 0.8917\n",
      "Epoch 88/100\n",
      "12000/12000 [==============================] - 105s - loss: 0.0307 - acc: 0.9893 - val_loss: 0.0733 - val_acc: 0.9833\n",
      "Epoch 89/100\n",
      "12000/12000 [==============================] - 109s - loss: 0.0251 - acc: 0.9916 - val_loss: 0.0601 - val_acc: 0.9750\n",
      "Epoch 90/100\n",
      "12000/12000 [==============================] - 103s - loss: 0.0362 - acc: 0.9881 - val_loss: 0.0764 - val_acc: 0.9500\n",
      "Epoch 91/100\n",
      "12000/12000 [==============================] - 106s - loss: 0.0237 - acc: 0.9920 - val_loss: 0.1146 - val_acc: 0.9417\n",
      "Epoch 92/100\n",
      "12000/12000 [==============================] - 110s - loss: 0.0237 - acc: 0.9918 - val_loss: 0.1229 - val_acc: 0.9417\n",
      "Epoch 93/100\n",
      "12000/12000 [==============================] - 105s - loss: 0.0201 - acc: 0.9938 - val_loss: 0.0469 - val_acc: 0.9667\n",
      "Epoch 94/100\n",
      "12000/12000 [==============================] - 105s - loss: 0.0216 - acc: 0.9922 - val_loss: 0.0835 - val_acc: 0.9583\n",
      "Epoch 95/100\n",
      "12000/12000 [==============================] - 102s - loss: 0.0267 - acc: 0.9903 - val_loss: 0.0772 - val_acc: 0.9583\n",
      "Epoch 96/100\n",
      "12000/12000 [==============================] - 105s - loss: 0.0163 - acc: 0.9947 - val_loss: 0.1304 - val_acc: 0.9417\n",
      "Epoch 97/100\n",
      "12000/12000 [==============================] - 105s - loss: 0.0331 - acc: 0.9877 - val_loss: 0.0391 - val_acc: 0.9833\n",
      "Epoch 98/100\n",
      "12000/12000 [==============================] - 109s - loss: 0.0221 - acc: 0.9923 - val_loss: 0.1025 - val_acc: 0.9667\n",
      "Epoch 99/100\n",
      "12000/12000 [==============================] - 109s - loss: 0.0180 - acc: 0.9945 - val_loss: 0.0779 - val_acc: 0.9583\n",
      "Epoch 100/100\n",
      "12000/12000 [==============================] - 111s - loss: 0.0174 - acc: 0.9946 - val_loss: 0.1768 - val_acc: 0.9417\n"
     ]
    },
    {
     "data": {
      "text/plain": [
       "<keras.callbacks.History at 0x7f0162ad5c90>"
      ]
     },
     "execution_count": 34,
     "metadata": {},
     "output_type": "execute_result"
    }
   ],
   "source": [
    "model.fit(train_X, train_Y, batch_size=batch_size, epochs=epochs,\n",
    "          verbose=1, validation_data=(test_X, test_Y))"
   ]
  },
  {
   "cell_type": "code",
   "execution_count": 37,
   "metadata": {
    "collapsed": false
   },
   "outputs": [
    {
     "name": "stdout",
     "output_type": "stream",
     "text": [
      "('Test loss:', 0.1768497129281362)\n",
      "('Test accuracy:', 0.94166666269302368)\n"
     ]
    }
   ],
   "source": [
    "score = model.evaluate(test_X, test_Y, verbose=0)\n",
    "print('Test loss:', score[0])\n",
    "print('Test accuracy:', score[1])"
   ]
  },
  {
   "cell_type": "code",
   "execution_count": 38,
   "metadata": {
    "collapsed": false
   },
   "outputs": [],
   "source": [
    "model.save('./zheyeV4.keras')"
   ]
  }
 ],
 "metadata": {
  "kernelspec": {
   "display_name": "Python 2",
   "language": "python",
   "name": "python2"
  },
  "language_info": {
   "codemirror_mode": {
    "name": "ipython",
    "version": 2
   },
   "file_extension": ".py",
   "mimetype": "text/x-python",
   "name": "python",
   "nbconvert_exporter": "python",
   "pygments_lexer": "ipython2",
   "version": "2.7.6"
  }
 },
 "nbformat": 4,
 "nbformat_minor": 1
}
