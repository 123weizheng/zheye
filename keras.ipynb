{
 "cells": [
  {
   "cell_type": "code",
   "execution_count": 23,
   "metadata": {
    "collapsed": false
   },
   "outputs": [],
   "source": [
    "from __future__ import print_function\n",
    "import keras\n",
    "from keras.datasets import mnist\n",
    "from keras.models import Sequential\n",
    "from keras.layers import Dense, Dropout, Flatten, Activation\n",
    "from keras.layers import Conv2D, MaxPooling2D, BatchNormalization\n",
    "from keras import backend as K\n",
    "\n",
    "import numpy as np"
   ]
  },
  {
   "cell_type": "code",
   "execution_count": 17,
   "metadata": {
    "collapsed": true
   },
   "outputs": [],
   "source": [
    "batch_size = 600\n",
    "num_classes = 2\n",
    "epochs = 50"
   ]
  },
  {
   "cell_type": "code",
   "execution_count": 3,
   "metadata": {
    "collapsed": true
   },
   "outputs": [],
   "source": [
    "train_X = np.load('./train_X.npy')\n",
    "train_Y = np.load('./train_Y.npy')"
   ]
  },
  {
   "cell_type": "code",
   "execution_count": 4,
   "metadata": {
    "collapsed": true
   },
   "outputs": [],
   "source": [
    "testing_X = np.load('./testing_X.npy')\n",
    "testing_Y = np.load('./testing_Y.npy')"
   ]
  },
  {
   "cell_type": "code",
   "execution_count": 5,
   "metadata": {
    "collapsed": true
   },
   "outputs": [],
   "source": [
    "#train_X = train_X.astype('float32')\n",
    "#testing_X = testing_X.astype('float32')\n",
    "#train_X /= 255\n",
    "#testing_X /= 255"
   ]
  },
  {
   "cell_type": "code",
   "execution_count": 6,
   "metadata": {
    "collapsed": false
   },
   "outputs": [
    {
     "data": {
      "text/plain": [
       "dtype('float64')"
      ]
     },
     "execution_count": 6,
     "metadata": {},
     "output_type": "execute_result"
    }
   ],
   "source": [
    "train_X.dtype"
   ]
  },
  {
   "cell_type": "code",
   "execution_count": 7,
   "metadata": {
    "collapsed": false
   },
   "outputs": [
    {
     "data": {
      "text/plain": [
       "(12000, 40, 40, 1)"
      ]
     },
     "execution_count": 7,
     "metadata": {},
     "output_type": "execute_result"
    }
   ],
   "source": [
    "train_X.shape"
   ]
  },
  {
   "cell_type": "code",
   "execution_count": 30,
   "metadata": {
    "collapsed": false
   },
   "outputs": [
    {
     "data": {
      "text/plain": [
       "(100, 40, 40, 1)"
      ]
     },
     "execution_count": 30,
     "metadata": {},
     "output_type": "execute_result"
    }
   ],
   "source": [
    "testing_X.shape"
   ]
  },
  {
   "cell_type": "code",
   "execution_count": 31,
   "metadata": {
    "collapsed": false
   },
   "outputs": [],
   "source": [
    "model = Sequential()\n",
    "model.add(Conv2D(32, kernel_size=(3, 3), activation='relu',input_shape=(40, 40, 1)))\n",
    "model.add(Conv2D(64, (5, 5), strides=2, activation='relu'))\n",
    "\n",
    "model.add(MaxPooling2D(pool_size=(2, 2)))\n",
    "model.add(Dropout(0.3))\n",
    "model.add(Flatten())\n",
    "model.add(Dense(128, activation='relu'))\n",
    "model.add(Dense(num_classes))\n",
    "\n",
    "model.add(BatchNormalization())\n",
    "model.add(Activation('softmax'))\n",
    "\n",
    "#model.add(Dropout(0.6))\n",
    "#model.add(Dense(num_classes, activation='softmax'))"
   ]
  },
  {
   "cell_type": "code",
   "execution_count": 32,
   "metadata": {
    "collapsed": true
   },
   "outputs": [],
   "source": [
    "model.compile(loss=keras.losses.categorical_crossentropy,\n",
    "              optimizer=keras.optimizers.Adadelta(),\n",
    "              metrics=['accuracy'])"
   ]
  },
  {
   "cell_type": "code",
   "execution_count": 33,
   "metadata": {
    "collapsed": false,
    "scrolled": true
   },
   "outputs": [
    {
     "name": "stdout",
     "output_type": "stream",
     "text": [
      "Train on 12000 samples, validate on 100 samples\n",
      "Epoch 1/50\n",
      "12000/12000 [==============================] - 69s - loss: 0.6904 - acc: 0.5909 - val_loss: 0.6761 - val_acc: 0.5100\n",
      "Epoch 2/50\n",
      "12000/12000 [==============================] - 66s - loss: 0.5782 - acc: 0.6896 - val_loss: 0.6546 - val_acc: 0.6900\n",
      "Epoch 3/50\n",
      "12000/12000 [==============================] - 67s - loss: 0.5208 - acc: 0.7371 - val_loss: 0.6376 - val_acc: 0.8000\n",
      "Epoch 4/50\n",
      "12000/12000 [==============================] - 68s - loss: 0.4771 - acc: 0.7732 - val_loss: 0.6312 - val_acc: 0.7700\n",
      "Epoch 5/50\n",
      "12000/12000 [==============================] - 67s - loss: 0.4338 - acc: 0.8058 - val_loss: 0.6112 - val_acc: 0.8700\n",
      "Epoch 6/50\n",
      "12000/12000 [==============================] - 72s - loss: 0.4046 - acc: 0.8240 - val_loss: 0.5998 - val_acc: 0.8100\n",
      "Epoch 7/50\n",
      "12000/12000 [==============================] - 71s - loss: 0.3717 - acc: 0.8429 - val_loss: 0.5989 - val_acc: 0.7000\n",
      "Epoch 8/50\n",
      "12000/12000 [==============================] - 68s - loss: 0.3533 - acc: 0.8608 - val_loss: 0.5857 - val_acc: 0.7400\n",
      "Epoch 9/50\n",
      "12000/12000 [==============================] - 74s - loss: 0.3327 - acc: 0.8748 - val_loss: 0.5477 - val_acc: 0.8600\n",
      "Epoch 10/50\n",
      "12000/12000 [==============================] - 75s - loss: 0.3159 - acc: 0.8874 - val_loss: 0.5300 - val_acc: 0.8100\n",
      "Epoch 11/50\n",
      "12000/12000 [==============================] - 67s - loss: 0.2945 - acc: 0.9058 - val_loss: 0.5218 - val_acc: 0.8400\n",
      "Epoch 12/50\n",
      "12000/12000 [==============================] - 70s - loss: 0.2836 - acc: 0.9130 - val_loss: 0.4834 - val_acc: 0.9100\n",
      "Epoch 13/50\n",
      "12000/12000 [==============================] - 75s - loss: 0.2742 - acc: 0.9198 - val_loss: 0.4842 - val_acc: 0.8400\n",
      "Epoch 14/50\n",
      "12000/12000 [==============================] - 70s - loss: 0.2578 - acc: 0.9289 - val_loss: 0.4494 - val_acc: 0.8500\n",
      "Epoch 15/50\n",
      "12000/12000 [==============================] - 75s - loss: 0.2468 - acc: 0.9365 - val_loss: 0.4503 - val_acc: 0.9000\n",
      "Epoch 16/50\n",
      "12000/12000 [==============================] - 67s - loss: 0.2321 - acc: 0.9489 - val_loss: 0.4668 - val_acc: 0.7600\n",
      "Epoch 17/50\n",
      "12000/12000 [==============================] - 74s - loss: 0.2249 - acc: 0.9492 - val_loss: 0.4143 - val_acc: 0.8800\n",
      "Epoch 18/50\n",
      "12000/12000 [==============================] - 71s - loss: 0.2125 - acc: 0.9602 - val_loss: 0.4063 - val_acc: 0.8400\n",
      "Epoch 19/50\n",
      "12000/12000 [==============================] - 72s - loss: 0.2049 - acc: 0.9614 - val_loss: 0.3860 - val_acc: 0.8500\n",
      "Epoch 20/50\n",
      "12000/12000 [==============================] - 72s - loss: 0.1985 - acc: 0.9647 - val_loss: 0.3549 - val_acc: 0.8800\n",
      "Epoch 21/50\n",
      "12000/12000 [==============================] - 74s - loss: 0.1872 - acc: 0.9706 - val_loss: 0.3301 - val_acc: 0.9000\n",
      "Epoch 22/50\n",
      "12000/12000 [==============================] - 75s - loss: 0.1815 - acc: 0.9751 - val_loss: 0.3624 - val_acc: 0.8800\n",
      "Epoch 23/50\n",
      "12000/12000 [==============================] - 71s - loss: 0.1738 - acc: 0.9788 - val_loss: 0.3225 - val_acc: 0.9000\n",
      "Epoch 24/50\n",
      "12000/12000 [==============================] - 75s - loss: 0.1673 - acc: 0.9801 - val_loss: 0.3040 - val_acc: 0.9100\n",
      "Epoch 25/50\n",
      "12000/12000 [==============================] - 77s - loss: 0.1563 - acc: 0.9854 - val_loss: 0.2887 - val_acc: 0.9100\n",
      "Epoch 26/50\n",
      "12000/12000 [==============================] - 78s - loss: 0.1509 - acc: 0.9864 - val_loss: 0.2745 - val_acc: 0.9300\n",
      "Epoch 27/50\n",
      "12000/12000 [==============================] - 75s - loss: 0.1455 - acc: 0.9870 - val_loss: 0.2651 - val_acc: 0.8800\n",
      "Epoch 28/50\n",
      "12000/12000 [==============================] - 74s - loss: 0.1384 - acc: 0.9913 - val_loss: 0.2807 - val_acc: 0.9200\n",
      "Epoch 29/50\n",
      "12000/12000 [==============================] - 81s - loss: 0.1359 - acc: 0.9903 - val_loss: 0.2643 - val_acc: 0.9000\n",
      "Epoch 30/50\n",
      "12000/12000 [==============================] - 72s - loss: 0.1293 - acc: 0.9921 - val_loss: 0.2459 - val_acc: 0.9400\n",
      "Epoch 31/50\n",
      "12000/12000 [==============================] - 75s - loss: 0.1245 - acc: 0.9932 - val_loss: 0.2529 - val_acc: 0.9400\n",
      "Epoch 32/50\n",
      "12000/12000 [==============================] - 74s - loss: 0.1193 - acc: 0.9941 - val_loss: 0.2469 - val_acc: 0.9200\n",
      "Epoch 33/50\n",
      "12000/12000 [==============================] - 75s - loss: 0.1153 - acc: 0.9952 - val_loss: 0.2461 - val_acc: 0.9100\n",
      "Epoch 34/50\n",
      "12000/12000 [==============================] - 68s - loss: 0.1129 - acc: 0.9948 - val_loss: 0.2369 - val_acc: 0.9300\n",
      "Epoch 35/50\n",
      "12000/12000 [==============================] - 75s - loss: 0.1065 - acc: 0.9974 - val_loss: 0.2768 - val_acc: 0.9000\n",
      "Epoch 36/50\n",
      "12000/12000 [==============================] - 71s - loss: 0.1040 - acc: 0.9976 - val_loss: 0.2557 - val_acc: 0.9100\n",
      "Epoch 37/50\n",
      "12000/12000 [==============================] - 70s - loss: 0.1004 - acc: 0.9979 - val_loss: 0.2616 - val_acc: 0.8800\n",
      "Epoch 38/50\n",
      "12000/12000 [==============================] - 75s - loss: 0.0978 - acc: 0.9978 - val_loss: 0.2210 - val_acc: 0.9300\n",
      "Epoch 39/50\n",
      "12000/12000 [==============================] - 74s - loss: 0.0926 - acc: 0.9987 - val_loss: 0.2369 - val_acc: 0.9300\n",
      "Epoch 40/50\n",
      "12000/12000 [==============================] - 78s - loss: 0.0911 - acc: 0.9983 - val_loss: 0.2243 - val_acc: 0.9200\n",
      "Epoch 41/50\n",
      "12000/12000 [==============================] - 71s - loss: 0.0879 - acc: 0.9990 - val_loss: 0.2250 - val_acc: 0.9300\n",
      "Epoch 42/50\n",
      "12000/12000 [==============================] - 74s - loss: 0.0839 - acc: 0.9987 - val_loss: 0.2255 - val_acc: 0.9200\n",
      "Epoch 43/50\n",
      "12000/12000 [==============================] - 71s - loss: 0.0820 - acc: 0.9989 - val_loss: 0.2372 - val_acc: 0.9300\n",
      "Epoch 44/50\n",
      "12000/12000 [==============================] - 75s - loss: 0.0786 - acc: 0.9988 - val_loss: 0.2121 - val_acc: 0.9300\n",
      "Epoch 45/50\n",
      "12000/12000 [==============================] - 71s - loss: 0.0776 - acc: 0.9988 - val_loss: 0.2263 - val_acc: 0.9300\n",
      "Epoch 46/50\n",
      "12000/12000 [==============================] - 71s - loss: 0.0761 - acc: 0.9988 - val_loss: 0.2636 - val_acc: 0.9100\n",
      "Epoch 47/50\n",
      "12000/12000 [==============================] - 71s - loss: 0.0754 - acc: 0.9990 - val_loss: 0.2087 - val_acc: 0.9200\n",
      "Epoch 48/50\n",
      "12000/12000 [==============================] - 71s - loss: 0.0711 - acc: 0.9993 - val_loss: 0.2625 - val_acc: 0.9000\n",
      "Epoch 49/50\n",
      "12000/12000 [==============================] - 80s - loss: 0.0684 - acc: 0.9994 - val_loss: 0.2191 - val_acc: 0.9100\n",
      "Epoch 50/50\n",
      "12000/12000 [==============================] - 79s - loss: 0.0671 - acc: 0.9999 - val_loss: 0.2158 - val_acc: 0.9100\n"
     ]
    },
    {
     "data": {
      "text/plain": [
       "<keras.callbacks.History at 0x7f9c7b4f4990>"
      ]
     },
     "execution_count": 33,
     "metadata": {},
     "output_type": "execute_result"
    }
   ],
   "source": [
    "model.fit(train_X, train_Y, batch_size=batch_size, epochs=epochs,\n",
    "          verbose=1, validation_data=(testing_X, testing_Y))"
   ]
  },
  {
   "cell_type": "code",
   "execution_count": 34,
   "metadata": {
    "collapsed": false
   },
   "outputs": [
    {
     "name": "stdout",
     "output_type": "stream",
     "text": [
      "Test loss: 0.215826023817\n",
      "Test accuracy: 0.91\n"
     ]
    }
   ],
   "source": [
    "score = model.evaluate(testing_X, testing_Y, verbose=0)\n",
    "print('Test loss:', score[0])\n",
    "print('Test accuracy:', score[1])"
   ]
  },
  {
   "cell_type": "code",
   "execution_count": 35,
   "metadata": {
    "collapsed": false
   },
   "outputs": [],
   "source": [
    "model.save('./zheyeV3.keras')"
   ]
  },
  {
   "cell_type": "code",
   "execution_count": null,
   "metadata": {
    "collapsed": true
   },
   "outputs": [],
   "source": []
  }
 ],
 "metadata": {
  "kernelspec": {
   "display_name": "Python 2",
   "language": "python",
   "name": "python2"
  },
  "language_info": {
   "codemirror_mode": {
    "name": "ipython",
    "version": 2
   },
   "file_extension": ".py",
   "mimetype": "text/x-python",
   "name": "python",
   "nbconvert_exporter": "python",
   "pygments_lexer": "ipython2",
   "version": "2.7.6"
  }
 },
 "nbformat": 4,
 "nbformat_minor": 1
}
