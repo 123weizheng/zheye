{
 "cells": [
  {
   "cell_type": "code",
   "execution_count": 4,
   "metadata": {
    "collapsed": false
   },
   "outputs": [],
   "source": [
    "from PIL import Image, ImageFont, ImageDraw\n",
    "%matplotlib inline\n",
    "from zheye import util\n",
    "from random import randint\n",
    "import numpy as np"
   ]
  },
  {
   "cell_type": "code",
   "execution_count": 16,
   "metadata": {
    "collapsed": false
   },
   "outputs": [],
   "source": [
    "X = []\n",
    "Y = []\n",
    "\n",
    "for i in range(200):\n",
    "    ret = util.RandomGenerateOneFile()\n",
    "    fa = randint(90, 150)\n",
    "    sm_x = randint(-3, 3)\n",
    "    sm_y = randint(-3, 3)\n",
    "    \n",
    "    im = util.centerExtend(ret[0], radius=50)\n",
    "    im = im.resize((int(5.0 *fa), int(1.88 *fa)), Image.ANTIALIAS)\n",
    "\n",
    "    for j in ret[1]:\n",
    "        x = (j[4] + 50.0) *fa/100 + sm_x\n",
    "        y = (j[5] + 50.0) *fa/100 + sm_y\n",
    "        #print x, y\n",
    "        \n",
    "        if j[6] == 1:\n",
    "            y += 5\n",
    "        else:\n",
    "            y -= 7\n",
    "        \n",
    "        cr = util.crop(im, y, x, radius=20)\n",
    "        \n",
    "        \n",
    "        '''\n",
    "        crA = np.asarray(cr.convert('L'), dtype='float')\n",
    "        #X = X.ravel()\n",
    "        for (i, j), value in np.ndenumerate(crA):\n",
    "            if value > 200:\n",
    "                X[i][j] = 1.0\n",
    "            else:\n",
    "                X[i][j] = 0.0\n",
    "        '''\n",
    "\n",
    "\n",
    "        #X.append(np.asarray(X, dtype='float'))\n",
    "        X.append(np.asarray(cr.convert('1'), dtype='float'))\n",
    "        if j[6] == 1:\n",
    "            Y.append([1,0])\n",
    "        else:\n",
    "            Y.append([0,1])"
   ]
  },
  {
   "cell_type": "code",
   "execution_count": 19,
   "metadata": {
    "collapsed": false
   },
   "outputs": [
    {
     "data": {
      "image/png": "[encoded data removed]",
      "text/plain": [
       "<PIL.Image.Image image mode=L size=555x208 at 0x7EFD313CD690>"
      ]
     },
     "execution_count": 19,
     "metadata": {},
     "output_type": "execute_result"
    }
   ],
   "source": [
    "im"
   ]
  },
  {
   "cell_type": "code",
   "execution_count": 17,
   "metadata": {
    "collapsed": false
   },
   "outputs": [
    {
     "data": {
      "image/png": "[encoded data removed]",
      "text/plain": [
       "<PIL.Image.Image image mode=L size=40x40 at 0x7EFD276BB890>"
      ]
     },
     "execution_count": 17,
     "metadata": {},
     "output_type": "execute_result"
    }
   ],
   "source": [
    "util.crop(im, y, x, radius=20)"
   ]
  },
  {
   "cell_type": "code",
   "execution_count": 18,
   "metadata": {
    "collapsed": false
   },
   "outputs": [
    {
     "data": {
      "text/plain": [
       "[1, 0]"
      ]
     },
     "execution_count": 18,
     "metadata": {},
     "output_type": "execute_result"
    }
   ],
   "source": [
    "Y[-1]"
   ]
  },
  {
   "cell_type": "code",
   "execution_count": 22,
   "metadata": {
    "collapsed": false
   },
   "outputs": [
    {
     "data": {
      "text/plain": [
       "(1400, 40, 40, 1)"
      ]
     },
     "execution_count": 22,
     "metadata": {},
     "output_type": "execute_result"
    }
   ],
   "source": [
    "X.shape"
   ]
  },
  {
   "cell_type": "code",
   "execution_count": 21,
   "metadata": {
    "collapsed": true
   },
   "outputs": [],
   "source": [
    "X = np.expand_dims(X, axis=3)"
   ]
  },
  {
   "cell_type": "code",
   "execution_count": 15,
   "metadata": {
    "collapsed": true
   },
   "outputs": [],
   "source": [
    "np.save('train_X', X)\n",
    "np.save('train_Y', Y)"
   ]
  },
  {
   "cell_type": "code",
   "execution_count": 23,
   "metadata": {
    "collapsed": true
   },
   "outputs": [],
   "source": [
    "np.save('testing_X', X)\n",
    "np.save('testing_Y', Y)"
   ]
  },
  {
   "cell_type": "markdown",
   "metadata": {},
   "source": []
  },
  {
   "cell_type": "markdown",
   "metadata": {},
   "source": []
  },
  {
   "cell_type": "code",
   "execution_count": null,
   "metadata": {
    "collapsed": true
   },
   "outputs": [],
   "source": [
    "X = np.squeeze(testing_X, axis=(3,))"
   ]
  },
  {
   "cell_type": "code",
   "execution_count": null,
   "metadata": {
    "collapsed": true
   },
   "outputs": [],
   "source": [
    "X = X.astype(bool)"
   ]
  },
  {
   "cell_type": "code",
   "execution_count": null,
   "metadata": {
    "collapsed": true
   },
   "outputs": [],
   "source": [
    "X = np.squeeze(X, axis=(3))"
   ]
  },
  {
   "cell_type": "code",
   "execution_count": null,
   "metadata": {
    "collapsed": true
   },
   "outputs": [],
   "source": [
    "Image.fromarray(X[1], '1')"
   ]
  },
  {
   "cell_type": "code",
   "execution_count": null,
   "metadata": {
    "collapsed": true
   },
   "outputs": [],
   "source": [
    "cr\n",
    "\n",
    "xx = np.asarray(cr.convert('1'), dtype='float')\n",
    "\n",
    "xx[20:40, 30:40]\n",
    "\n",
    "xxx = xx.astype('uint8')*255\n",
    "\n",
    "cr.convert('1')\n",
    "\n",
    "cr\n",
    "\n",
    "xxx.shape\n",
    "\n",
    "Image.fromarray(xxx)\n",
    "\n",
    "from __future__ import print_function\n",
    "import keras\n",
    "from keras.datasets import mnist\n",
    "from keras.models import Sequential\n",
    "from keras.layers import Dense, Dropout, Flatten\n",
    "from keras.layers import Conv2D, MaxPooling2D\n",
    "from keras import backend as K\n",
    "import keras\n",
    "\n",
    "model = keras.models.load_model('chunhu.keras')"
   ]
  },
  {
   "cell_type": "code",
   "execution_count": null,
   "metadata": {
    "collapsed": true
   },
   "outputs": [],
   "source": [
    "plt.ion()\n",
    "for i in range(7):\n",
    "    x = k_means_cluster_centers[i][0]\n",
    "    y = k_means_cluster_centers[i][1]\n",
    "    \n",
    "    cr = util.crop(im, x, y, radius=20)\n",
    "    X = np.asarray(cr.convert('1'), dtype='float')\n",
    "    \n",
    "    xx = X.astype('uint8')*255\n",
    "    mm = Image.fromarray(xx)\n",
    "    \n",
    "    plt.imshow(mm, cmap='hot')\n",
    "    plt.show()\n",
    "    \n",
    "    x0 = np.expand_dims(X, axis=0)\n",
    "    x1 = np.expand_dims(x0, axis=3)\n",
    "    \n",
    "    m_y = model.predict(x1)\n",
    "    print(m_y[0][0])"
   ]
  }
 ],
 "metadata": {
  "kernelspec": {
   "display_name": "Python 2",
   "language": "python",
   "name": "python2"
  },
  "language_info": {
   "codemirror_mode": {
    "name": "ipython",
    "version": 2
   },
   "file_extension": ".py",
   "mimetype": "text/x-python",
   "name": "python",
   "nbconvert_exporter": "python",
   "pygments_lexer": "ipython2",
   "version": "2.7.6"
  }
 },
 "nbformat": 4,
 "nbformat_minor": 1
}
