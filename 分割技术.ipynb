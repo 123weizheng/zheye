{
 "cells": [
  {
   "cell_type": "raw",
   "metadata": {},
   "source": [
    "分割"
   ]
  },
  {
   "cell_type": "raw",
   "metadata": {},
   "source": [
    "https://www.zhihu.com/captcha.gif?r=1464247559114&type=login&lang=cn"
   ]
  },
  {
   "cell_type": "code",
   "execution_count": null,
   "metadata": {
    "collapsed": true
   },
   "outputs": [],
   "source": [
    "from pybrain.supervised.trainers import BackpropTrainer\n",
    "from pybrain.tools.shortcuts import buildNetwork"
   ]
  },
  {
   "cell_type": "code",
   "execution_count": 2,
   "metadata": {
    "collapsed": false
   },
   "outputs": [],
   "source": [
    "import pickle\n",
    "net = pickle.load( open( \"net.p\", \"rb\" ) )"
   ]
  },
  {
   "cell_type": "code",
   "execution_count": 4,
   "metadata": {
    "collapsed": false
   },
   "outputs": [
    {
     "name": "stdout",
     "output_type": "stream",
     "text": [
      "---++++++++-----++++\n",
      "----++-+++++++---+--\n",
      "++--++--++++++---+--\n",
      "++++----++++++---+--\n",
      "+++------++++++--++-\n",
      "-----+---++++++--+++\n",
      "--+++++--++++++---++\n",
      "-+++------+++++---++\n",
      "-+----+---++++----++\n",
      "-+---++---+++------+\n",
      "-+++-------+---++--+\n",
      "--+----+----+--+---+\n",
      "--+--+++----+++++---\n",
      "--++++----+++++++---\n",
      "---++-----+++++++---\n",
      "------++--+++++++---\n",
      "-----++--+++++++++++\n",
      "----+++--+++++++++++\n",
      "++++++---+++++++++++\n",
      "+++++----+++++++++++\n",
      "predic: [-0.0038905]\n",
      "should:  0\n",
      "++++++++++++++++++++\n",
      "++++++---+++++++++++\n",
      "--++++----+++++++---\n",
      "+---++----+---------\n",
      "+---++---+++--------\n",
      "+---++---+--+++++---\n",
      "+--+++--++---++-----\n",
      "+--+++--++++---+----\n",
      "+--+++--+++++-------\n",
      "---++---++++++----++\n",
      "---++---+++--------+\n",
      "+--++---++----++----\n",
      "+++++--++--++++++---\n",
      "+++++--++++++-++++--\n",
      "+++--++--------++++-\n",
      "++++------------++++\n",
      "+++---++++++-----++-\n",
      "+++---+++++++---+++-\n",
      "+++---------+---++++\n",
      "+++---------+---++++\n",
      "predic: [-0.0018136]\n",
      "should:  1\n",
      "++++---+++---+++++++\n",
      "+++----++++-++++-++-\n",
      "+++----------++---+-\n",
      "-++----------+----+-\n",
      "--+++--+++++++---+--\n",
      "--++++++++++++---+--\n",
      "-+++++----------+--+\n",
      "-------------+--+++-\n",
      "----+++++++++++++++-\n",
      "+++++++++--+++++++++\n",
      "++-----------+++++++\n",
      "-+----++++++++++++++\n",
      "-----+++++++++++++++\n",
      "------------++++--++\n",
      "-----------+++++---+\n",
      "---++++++++++++-----\n",
      "---++++----+++++----\n",
      "-------------++++---\n",
      "-------+++++++++++++\n",
      "+---++++++++++++++++\n",
      "predic: [-0.01532339]\n",
      "should:  0\n",
      "-++++---++---+---+++\n",
      "-++++---++-------+++\n",
      "-+++---+++++-----+++\n",
      "-+++---+++++++---+++\n",
      "++++---+++++++---+++\n",
      "++++--++---------+--\n",
      "++++--+++-----------\n",
      "+++---+++++-+---+++-\n",
      "+++---++++++----++++\n",
      "+++---+++++++---++++\n",
      "++----+++--++++++---\n",
      "++----+++---++------\n",
      "++++--++++---+------\n",
      "++++++++++------++++\n",
      "+++++++++++----+++++\n",
      "++++++++++------++++\n",
      "+++++++++---++---+++\n",
      "++++++++---+++++--+-\n",
      "+++++++++--++++++---\n",
      "++++++++++-++++++---\n",
      "predic: [ 0.02816337]\n",
      "should:  0\n",
      "+---++++++++++++++++\n",
      "+-----++++++++++++++\n",
      "+------+++++++++++++\n",
      "-------+++++++++++++\n",
      "-------+++++++++++--\n",
      "--+----++++++-------\n",
      "++++++++++-------+++\n",
      "++++---+++++----++++\n",
      "--------+++++---++++\n",
      "--------+++++---++++\n",
      "-++---+++++++-------\n",
      "++---+++---------++-\n",
      "++---+--+--++--++++-\n",
      "+---++---+++---++++-\n",
      "+---++--++++---+++--\n",
      "----+--+++++--------\n",
      "-------++----------+\n",
      "-+--+---++----++++++\n",
      "++--++--+++--+++++++\n",
      "++--+++-++---+++++--\n",
      "predic: [-0.00793068]\n",
      "should:  1\n",
      "+++++-----+++++++++-\n",
      "++++++----++++++++--\n",
      "+++++-----++++++++--\n",
      "++++------+++++++---\n",
      "++++---+--++++++--++\n",
      "+++----++--+++++--++\n",
      "+++----++--+++++-++-\n",
      "+++---++++--+++--++-\n",
      "++---+++++---++++++-\n",
      "++---+++++----+++++-\n",
      "-----++++++++-++++++\n",
      "-----+++++++++++++++\n",
      "--------------++++++\n",
      "-------------+++--++\n",
      "+----++++++++++----+\n",
      "++-++++++++++++-----\n",
      "++++++++++++++++----\n",
      "++++++++++++++++++--\n",
      "++++++++++++++++++++\n",
      "++++++++++++++++++++\n",
      "predic: [-0.00124432]\n",
      "should:  0\n",
      "+++++---++++++++++++\n",
      "+++++---++++++++++++\n",
      "+++++----+++++++++++\n",
      "+++++----+++++++++++\n",
      "+++++---++++++++++++\n",
      "+++++--+++++-+++++++\n",
      "++++---+++++-----+-+\n",
      "++++--++++++--------\n",
      "+++---+++++++--+++++\n",
      "+++--++++++++---++++\n",
      "++--+++--++++----+++\n",
      "++--+++---+++-------\n",
      "----------+++--+--+-\n",
      "----------+-++++++++\n",
      "+--++----++---++++++\n",
      "--+++---+++---------\n",
      "--++---++++---++++--\n",
      "-+++---++++--+++++++\n",
      "--+---+++++---+---++\n",
      "+-----++++---------+\n",
      "predic: [-0.03556075]\n",
      "should:  1\n"
     ]
    }
   ],
   "source": [
    "import sys, time\n",
    "from chunhu.util import *\n",
    "ret = RandomGenerateOneFile()\n",
    "for i in Seven(ret):\n",
    "    ip = [0 if x < 200 else 1 for x in i[0].ravel().tolist()]\n",
    "    showAscii(i[0]),\n",
    "    print \"predic:\" , net.activate(ip)\n",
    "    print \"should: \", i[1] #0.015"
   ]
  },
  {
   "cell_type": "code",
   "execution_count": 3,
   "metadata": {
    "collapsed": false
   },
   "outputs": [],
   "source": [
    "im = Image.open('./training_set/c.gif')"
   ]
  },
  {
   "cell_type": "code",
   "execution_count": 4,
   "metadata": {
    "collapsed": false
   },
   "outputs": [],
   "source": [
    "i = img2vec(im, 235, 60)\n",
    "r = scipy.ndimage.zoom(i , 0.5, order=0)\n",
    "ip = [0 if x < 200 else 1 for x in r.ravel().tolist()]"
   ]
  },
  {
   "cell_type": "code",
   "execution_count": 5,
   "metadata": {
    "collapsed": false
   },
   "outputs": [
    {
     "data": {
      "text/plain": [
       "array([-0.06545027])"
      ]
     },
     "execution_count": 5,
     "metadata": {},
     "output_type": "execute_result"
    }
   ],
   "source": [
    "net.activate(ip)"
   ]
  },
  {
   "cell_type": "code",
   "execution_count": 6,
   "metadata": {
    "collapsed": false
   },
   "outputs": [
    {
     "name": "stdout",
     "output_type": "stream",
     "text": [
      "-----+++++++++++++---------++++-------++\n",
      "----+++++++++++++-------+++++++-------++\n",
      "----+++++++++++--------+++++++++------++\n",
      "----+++++++++----------+++++++++-----+++\n",
      "----+++---------+++-----++++++++-----+++\n",
      "---+++--------+++++-----++++++++-----+++\n",
      "---+++-------++++++-----------++-----+++\n",
      "---++++------+++++++---------+++-----+++\n",
      "---+++++------++++++--------++++-----+++\n",
      "---++++++-----++++--------++++++-----+++\n",
      "----+++++------+---------+++++++-----+++\n",
      "-----+++++----------------++++++-----+++\n",
      "-----++++++-----+++++-----++++++-----+++\n",
      "-----++++++-----+++++-----++++---------+\n",
      "+-----+++++-----+++++-------------------\n",
      "+-----++++++----++++++--------------++--\n",
      "++----++++++-----+++++-------++++---++--\n",
      "++----+++++++----+++-------+++++++-++++-\n",
      "++-----++++++--------------+++++++++++++\n",
      "++-----+++++++--------------++++++++++++\n",
      "+++----+++++++-----++++-----++++++++++++\n",
      "+++----++++++++---+++++-----++++++++++++\n",
      "+++-----+++++++---+++++-----++++++++++++\n",
      "+++-----++++++++++++++++-----+++++++++++\n",
      "++++----++++++++++++++++-----+++++++++++\n",
      "++++-----+++++++++++++++-----+++++++++++\n",
      "++++-----+++++++++++++++-----+++++++++++\n",
      "++++-----++++++++++++++++----+++++++++++\n",
      "++++-----++++++++++++++++-----++++++++++\n",
      "+++++-----+++++++++++++++-----++++++++++\n",
      "++++------++++++++++++++++----++++++++++\n",
      "++++------++++++++++++++++----++++++++++\n",
      "+++++-----++++++++++++++++----++++++++++\n",
      "+++++------++++++++++++++++---++++++++++\n",
      "+++++------++++++++++++++++---++++++++++\n",
      "+++++------++++++++++++++++---++++++++++\n",
      "+++++------+++++++++++++++++--++++++++++\n",
      "++++++-----+++++++++++++++++--++++++++++\n",
      "++++++-----+++++++++++++++++++++++++++++\n",
      "+++++++---++++++++++++++++++++++++++++++\n"
     ]
    }
   ],
   "source": [
    "showAscii(i)"
   ]
  },
  {
   "cell_type": "code",
   "execution_count": 83,
   "metadata": {
    "collapsed": false
   },
   "outputs": [],
   "source": [
    "import numpy as np\n",
    "x1 = np.full((88, 400), 255, dtype='uint8')\n",
    "\n",
    "for x in range(400):\n",
    "    for y in range(88):\n",
    "        i = img2vec(im, x, y)\n",
    "        r = scipy.ndimage.zoom(i , 0.5, order=0)\n",
    "        ip = [0 if xx < 200 else 1 for xx in r.ravel().tolist()]\n",
    "        \n",
    "        flag = 0\n",
    "        if net.activate(ip) < -0.1:\n",
    "            flag = 255\n",
    "        x1[y, x] = flag"
   ]
  },
  {
   "cell_type": "code",
   "execution_count": 84,
   "metadata": {
    "collapsed": false
   },
   "outputs": [],
   "source": [
    "show = Image.fromarray(x1)"
   ]
  },
  {
   "cell_type": "code",
   "execution_count": 85,
   "metadata": {
    "collapsed": false
   },
   "outputs": [
    {
     "data": {
      "image/png": "[encoded data removed]",
      "text/plain": [
       "<PIL.Image.Image image mode=L size=400x88 at 0x7FA3E55A12D0>"
      ]
     },
     "execution_count": 85,
     "metadata": {},
     "output_type": "execute_result"
    }
   ],
   "source": [
    "show"
   ]
  },
  {
   "cell_type": "code",
   "execution_count": 5,
   "metadata": {
    "collapsed": false
   },
   "outputs": [
    {
     "ename": "NameError",
     "evalue": "name 'Sound' is not defined",
     "output_type": "error",
     "traceback": [
      "\u001b[1;31m---------------------------------------------------------------------------\u001b[0m",
      "\u001b[1;31mNameError\u001b[0m                                 Traceback (most recent call last)",
      "\u001b[1;32m<ipython-input-5-4800e5ab6bf9>\u001b[0m in \u001b[0;36m<module>\u001b[1;34m()\u001b[0m\n\u001b[1;32m----> 1\u001b[1;33m \u001b[0ms\u001b[0m \u001b[1;33m=\u001b[0m \u001b[0mSound\u001b[0m\u001b[1;33m(\u001b[0m\u001b[1;33m)\u001b[0m\u001b[1;33m\u001b[0m\u001b[0m\n\u001b[0m\u001b[0;32m      2\u001b[0m \u001b[0ms\u001b[0m\u001b[1;33m.\u001b[0m\u001b[0mread\u001b[0m\u001b[1;33m(\u001b[0m\u001b[1;34m'sound.wav'\u001b[0m\u001b[1;33m)\u001b[0m\u001b[1;33m\u001b[0m\u001b[0m\n\u001b[0;32m      3\u001b[0m \u001b[0ms\u001b[0m\u001b[1;33m.\u001b[0m\u001b[0mplay\u001b[0m\u001b[1;33m(\u001b[0m\u001b[1;33m)\u001b[0m\u001b[1;33m\u001b[0m\u001b[0m\n",
      "\u001b[1;31mNameError\u001b[0m: name 'Sound' is not defined"
     ]
    }
   ],
   "source": [
    "s = Sound() \n",
    "s.read('sound.wav') \n",
    "s.play()"
   ]
  },
  {
   "cell_type": "code",
   "execution_count": 14,
   "metadata": {
    "collapsed": false
   },
   "outputs": [
    {
     "data": {
      "text/plain": [
       "0"
      ]
     },
     "execution_count": 14,
     "metadata": {},
     "output_type": "execute_result"
    }
   ],
   "source": [
    "import os\n",
    "os.system(\"mplayer /usr/share/sounds/KDE-Sys-App-Positive.ogg\")"
   ]
  },
  {
   "cell_type": "code",
   "execution_count": null,
   "metadata": {
    "collapsed": true
   },
   "outputs": [],
   "source": []
  }
 ],
 "metadata": {
  "kernelspec": {
   "display_name": "Python 2",
   "language": "python",
   "name": "python2"
  },
  "language_info": {
   "codemirror_mode": {
    "name": "ipython",
    "version": 2
   },
   "file_extension": ".py",
   "mimetype": "text/x-python",
   "name": "python",
   "nbconvert_exporter": "python",
   "pygments_lexer": "ipython2",
   "version": "2.7.6"
  }
 },
 "nbformat": 4,
 "nbformat_minor": 0
}
